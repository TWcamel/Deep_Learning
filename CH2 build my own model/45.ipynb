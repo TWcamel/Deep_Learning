{
 "cells": [
  {
   "cell_type": "code",
   "execution_count": 1,
   "metadata": {},
   "outputs": [],
   "source": [
    "import tensorflow as tf\n",
    "\n",
    "###  define layer function  ###\n",
    "\n",
    "#此功能應包含3層layer，其中一層為隱藏層(看筆記page1)\n",
    "def add_layer(inputs, in_size, out_size, activation_function=None):\n",
    "    Weights = tf.Variable(tf.random_normal([in_size, out_size])) #生成一隨機矩陣，為in_size列,out_size行\n",
    "    biases = tf.Variable(tf.zeros([1, out_size]) + 0.1 ) #在tensorflow中，biases初始值不推薦為0，故使用0.1\n",
    "    Wx_plus_biases = tf.matmul(inputs, Weights) + biases\n",
    "    \n",
    "    ## 開始繳活函數 ##\n",
    "    if activation_function is None: #activaiton_function不為0時\n",
    "        outputs = Wx_plus_biases\n",
    "    else:\n",
    "        outputs = activation_function(Wx_plus_biases)\n",
    "    return outputs\n",
    "\n",
    "###  end of layer funciton  ###"
   ]
  },
  {
   "cell_type": "code",
   "execution_count": 2,
   "metadata": {},
   "outputs": [],
   "source": [
    "###   build a neural network  ###\n",
    "\n",
    "import numpy as np\n",
    "x_data = np.linspace(-1, 1, 300)[:, np.newaxis]  #x_data有300比資料[-1,1]的等差級數，一個feature\n",
    "noise = np.random.normal(0, 0.05, x_data.shape) #增加噪點( 常態(平均=0,標準差=0.05) )，防止預測曲線發現過擬和現象\n",
    "y_data = np.square(x_data) - 0.5 + noise\n",
    "\n",
    "xs= tf.placeholder(tf.float32, [None, 1])  #假設無論給多少example都Ok(None),輸出的feature只有1，此步驟為指定矩陣大小\n",
    "ys= tf.placeholder(tf.float32, [None, 1])\n",
    "\n",
    "l1 = add_layer(xs, 1, 10, activation_function = tf.nn.relu) #輸入層\n",
    "prediction = add_layer(l1, 10, 1, activation_function= None) #線性函數，因為假設無activation_function\n",
    "\n",
    "loss = tf.reduce_mean(tf.reduce_sum(tf.square(ys - prediction),\n",
    "                    reduction_indices=1)) #定義loss_function，並把reduction_indices=1，表示輸出為一個向量\n",
    "train_step = tf.train.GradientDescentOptimizer(0.1).minimize(loss) #以學習率=0.1對於誤差(loss)進行優化\n",
    "\n",
    "init = tf.global_variables_initializer()\n",
    "sess = tf.Session()\n",
    "sess.run(init)\n",
    "\n",
    "\n",
    "\n",
    "###  end of  building  ###"
   ]
  },
  {
   "cell_type": "code",
   "execution_count": 3,
   "metadata": {},
   "outputs": [
    {
     "name": "stdout",
     "output_type": "stream",
     "text": [
      "Using matplotlib backend: Qt5Agg\n",
      "0.8249467\n",
      "0.010833256\n",
      "0.007779279\n",
      "0.006402349\n",
      "0.0054835677\n",
      "0.004865954\n",
      "0.004465447\n",
      "0.0042074467\n",
      "0.0040315813\n",
      "0.0038948902\n",
      "0.0037525697\n",
      "0.0036366722\n",
      "0.0035486892\n",
      "0.0034664606\n",
      "0.0033827408\n",
      "0.0033184157\n",
      "0.0032537393\n",
      "0.0031712751\n",
      "0.0030994273\n",
      "0.0030395938\n"
     ]
    }
   ],
   "source": [
    "###  visualization  ###\n",
    "%matplotlib\n",
    "\n",
    "import matplotlib.pyplot as plt\n",
    "\n",
    "fig = plt.figure()\n",
    "ax = fig.add_subplot(1,1,1) #1x1網格，第一個子格\n",
    "ax.scatter(x_data, y_data)\n",
    "plt.ion()\n",
    "plt.show()\n",
    "\n",
    "for i in range(1000) :\n",
    "    sess.run(train_step, feed_dict = {xs: x_data, ys: y_data}) #另一種對於GradientDescent的方法，小步驟訓練可提升下降效率\n",
    "    if i % 50 == 0 :  #每50步回報一次\n",
    "        print(sess.run(loss, feed_dict = {xs: x_data, ys: y_data}))   #每50步回報一次誤差函數\n",
    "             \n",
    "        ##  to see the step improvement  ##   \n",
    "        try:\n",
    "            ax.lines.remove(lines[0])\n",
    "        except Exception:\n",
    "            pass\n",
    "        prediction_value = sess.run(prediction, feed_dict={xs: x_data})\n",
    "        # plot the prediction\n",
    "        lines = ax.plot(x_data, prediction_value, 'r-', lw=5)\n",
    "        plt.pause(0.1)\n",
    "        \n",
    "        ##  end  ##\n",
    "plt.ioff()\n",
    "### end visualization  ###"
   ]
  },
  {
   "cell_type": "code",
   "execution_count": null,
   "metadata": {},
   "outputs": [],
   "source": []
  }
 ],
 "metadata": {
  "kernelspec": {
   "display_name": "Python 3",
   "language": "python",
   "name": "python3"
  },
  "language_info": {
   "codemirror_mode": {
    "name": "ipython",
    "version": 3
   },
   "file_extension": ".py",
   "mimetype": "text/x-python",
   "name": "python",
   "nbconvert_exporter": "python",
   "pygments_lexer": "ipython3",
   "version": "3.6.7"
  }
 },
 "nbformat": 4,
 "nbformat_minor": 2
}
