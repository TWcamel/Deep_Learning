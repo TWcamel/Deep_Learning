{
 "cells": [
  {
   "cell_type": "markdown",
   "source": [
    "## 4.1 評估機器學習模型\n",
    "ML的目的是得到可以**泛化( generalize )**的模型，即在前所未見的數據上表現很好的模型，而過擬合則是核心難點，因此，本節將介紹如何評估機器學習模型，亦即，衡量模型泛化的能力。\n"
   ],
   "metadata": {
    "collapsed": false
   }
  },
  {
   "cell_type": "markdown",
   "source": [
    "### 4.1.1 訓練集、驗證集、測試集\n",
    "我們通常在訓練集上訓練模型，在驗證數據上評估模型，一旦找到了最佳參數，就在測試數據上進行最後一次測試。<br><br>\n",
    "\n",
    "而為了防止「訊息洩漏( information leak )」，我們不能基於測試集來調節模型，應該保留一個驗證集。因此，以下將介紹三種經典的評估方法：\n",
    "* 簡單的切出驗證集數據<br>\n",
    "![4.2.1](../img/4.2.1.PNG)\n",
    "* K折驗證<br>\n",
    "![4.2.1.1](../img/4.2.1.1.PNG)\n",
    "* 帶有打亂數據的重複K折驗證\n",
    "\n"
   ],
   "metadata": {
    "collapsed": false
   }
  },
  {
   "cell_type": "code",
   "execution_count": null,
   "outputs": [],
   "source": [
    "# 4-1 簡單的切出驗證集數據\n",
    "import numpy as np\n",
    "from keras import *\n",
    "data = np.arange(0,100000)                          # 產生raw_data\n",
    "num_validation_samples = 10000\n",
    "np.random.shuffle(data)                             # 通常要打亂數據\n",
    "\n",
    "validation_data = data[:num_validation_samples]     # 定義驗證集\n",
    "data = data[num_validation_samples:]\n",
    "\n",
    "train_data = data[:]                                # 定義訓練集\n",
    "\n",
    "model = get_model()                                 # |在訓練數據上\n",
    "model.train(training_data)                          # |訓練模型，並\n",
    "validation_score = model.evaluate(validation_data)  # |在驗證數據上\n",
    "                                                    # |評估模型\n",
    "\n",
    "# 因為有了val分數\n",
    "# 現在我們可以調整模型(超參數)、重新訓練、再次評估、再次訓練、...\n",
    "# 注意，我們只對模型做「一次」調整\n",
    "\n",
    "model = get_model()                                 # |一旦調節好超參數，\n",
    "model.train(np.concatenate([training_data,          # |通常就在所有非測試\n",
    "                            validation_data]))      # |數據上從頭開始訓練\n",
    "test_score = model.evaluate(test_data)              # |最終模型\n",
    "\n",
    "###\n",
    "# 缺點：可能因為輸入數據較少，\n",
    "# 而驗證集以及測試集包含的樣本就少\n",
    "# 從而無法在統計學上代表數據\n",
    "###\n"
   ],
   "metadata": {
    "collapsed": false,
    "pycharm": {
     "name": "#%%\n"
    }
   }
  },
  {
   "cell_type": "code",
   "execution_count": null,
   "outputs": [],
   "source": [
    "# 4-2 K折交叉驗證\n",
    "\n",
    "###\n",
    "# 如果模型性能的變化很大，\n",
    "# 那麼這種方法很有用，\n",
    "# 與前者一樣，這種方法也需要\n",
    "# 獨立的驗證集進行模型校正。\n",
    "###\n",
    "\n",
    "k = 5                                       # 5折交叉驗證\n",
    "num_validation_samples = len(data) // k\n",
    "\n",
    "np.random.shuffle(data)\n",
    "\n",
    "validation_scores = []\n",
    "for fold in range(k):\n",
    "    validation_data = data[num_validation_samples * fold:       # |選擇驗證數據分區 \n",
    "                           num_validation_samples * (fold + 1)] # |\n",
    "    training_data = data[:num_validation_samples * fold] + \\\n",
    "                    data[num_validation_samples * (fold + 1):]  # |使用剩餘數據作為訓練數據，\n",
    "                                                                # |注意，+運算符是列表合併，\n",
    "                                                                # |不是求和\n",
    "    \n",
    "    model = get_model()                                         # |創建一個全新的模型實例(未訓練)\n",
    "    model.train(training_data)\n",
    "    validation_score = model.evaluate(validation_data)\n",
    "    validation_scores.append(validation_score)\n",
    "\n",
    "validation_score = np.average(validation_scores)                # |最終驗證分數：\n",
    "                                                                # |K折驗證分數的平均值\n",
    "\n",
    "model = get_model()                                             # |在所有非測試數據上\n",
    "model.train(data)                                               # |訓練最終模型\n",
    "test_score = model.evaluate(test_data)                          # |\n",
    "\n",
    "\n",
    "###\n",
    "# 4-3 帶有打亂數據的重複K折驗證\n",
    "# 適用於輸入數據相對較少，但又需要盡可能地評估模型\n",
    "# 那麼我們可以選用打亂數據的重複K折驗證\n",
    "# 作法為，多次使用K折驗證，在每次將數據化分為K個\n",
    "# 分區之前都先將數據打亂，因此，這樣的計算代價很大。\n",
    "###\n"
   ],
   "metadata": {
    "collapsed": false,
    "pycharm": {
     "name": "#%%\n"
    }
   }
  },
  {
   "cell_type": "markdown",
   "source": [
    "### 4.1.2 評估模型的注意事項\n",
    "* 數據代表性( data representation )：如果我們將數據前80%作為訓練集，剩餘20%作為測試集，這將導致訓練集中只包含類別0~7，測是類集中止包含類別8~9，這錯誤是很常見的!避免的做法為隨機打亂數據。\n",
    "* 時間箭頭( the arrow of time )：若我們要根據過去預測未來(天氣、股票走勢等)，那麼我們在劃分數據時就不該打亂數據，因為這樣做會造成時間洩漏( temporal leak )：模型在未來數據上得到有效訓練，我們應該確保測試集中所有數據的時間都「晚於」訓練數據。\n",
    "* 數據冗餘( redundancy in your data )：如果數據中的某些數據點出現了兩次(這在現實中的數據十分常見)，那麼打亂數據並劃分成訓練集與驗證集只會導致數據冗餘。因此，我們須確保訓練集與驗證集之間沒有交集。\n",
    "\n",
    "\n"
   ],
   "metadata": {
    "collapsed": false
   }
  }
 ],
 "metadata": {
  "language_info": {
   "codemirror_mode": {
    "name": "ipython",
    "version": 2
   },
   "file_extension": ".py",
   "mimetype": "text/x-python",
   "name": "python",
   "nbconvert_exporter": "python",
   "pygments_lexer": "ipython2",
   "version": "2.7.6"
  },
  "kernelspec": {
   "name": "python3",
   "language": "python",
   "display_name": "Python 3"
  },
  "pycharm": {
   "stem_cell": {
    "cell_type": "raw",
    "source": [],
    "metadata": {
     "collapsed": false
    }
   }
  }
 },
 "nbformat": 4,
 "nbformat_minor": 0
}