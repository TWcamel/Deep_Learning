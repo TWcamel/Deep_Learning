{
 "cells": [
  {
   "cell_type": "markdown",
   "metadata": {
    "collapsed": true,
    "pycharm": {
     "name": "#%% md\n"
    }
   },
   "source": [
    "## 4.2 數據預處理、特徵工程、特徵學習\n",
    "學習完了如何評估模型後，在ML中還有一個重要的命題。將數據輸入NN前，如何準備輸入數據和目標?我們接著將介紹所有數據領域通用的基本方法。\n"
   ]
  },
  {
   "cell_type": "markdown",
   "source": [
    "### 4.2.1 NN的數據預處理 \n",
    "其目的為，使原始輸入數據更適用於神經網路處理，包括向量化、標準化、處理缺失值以及特徵提取。\n",
    "* 1. 向量化<br>\n",
    "&nbsp;&nbsp;&nbsp;&nbsp;NN的所有輸入數據和目標都必須是浮點數張量( float32、float64 )，或是整數張量。無論如何我們再輸入數據進入NN前都必須做「數據向量化」。<br>\n",
    "* 2. 值標準化<br>\n",
    "&nbsp;&nbsp;&nbsp;&nbsp;對於輸入數據變化很大的資料集來說(手寫辨識0~255的輸入張量、回歸例子的多類別輸入數據等)，我們需要對每個特徵分別做標準化，使其均值為0、標準差為1。作法如下：<br>\n",
    "&nbsp;&nbsp;&nbsp;&nbsp;* 取值較小：大部分的值應該都在0-1的範圍內。<br>\n",
    "&nbsp;&nbsp;&nbsp;&nbsp;* 同質性( homogenous )：所有特徵的取值應該都在大致相同的範圍內。<br>\n",
    "* 3. 處理缺失值<br>\n",
    "&nbsp;&nbsp;&nbsp;&nbsp;若不是所有樣本都具有某個特徵(如，房屋預測的人均犯罪率。)，因此，一般將缺失數據設為0，則NN可以從數據中學到0意味著「缺失數據」，並且會忽略這個值。注意，若測試數據中可能有缺失值，而NN在沒有缺失樣本的訓練集上訓練的，如此會造成NN不可能學會忽略缺失值。因此，我們應該人工生成衣些具有缺失項的訓練數據。\n"
   ],
   "metadata": {
    "collapsed": false,
    "pycharm": {
     "name": "#%% md\n"
    }
   }
  },
  {
   "cell_type": "markdown",
   "source": [
    "### 4.2.2 特徵工程\n",
    "指，將數據輸入模型前，利用自己關於數據和機器學習算法( 或NN )的知識對數據進行「硬編碼」轉換(不是模型學到的)，以改善模型的預測結果(效果)。舉例如時鐘，輸入一個時鐘圖像，模型能夠輸出對應的時間。<br>\n",
    "![4.2.2](../img/4.2.2.PNG)<br>\n"
   ],
   "metadata": {
    "collapsed": false,
    "pycharm": {
     "name": "#%% md\n"
    }
   }
  }
 ],
 "metadata": {
  "language_info": {
   "codemirror_mode": {
    "name": "ipython",
    "version": 2
   },
   "file_extension": ".py",
   "mimetype": "text/x-python",
   "name": "python",
   "nbconvert_exporter": "python",
   "pygments_lexer": "ipython2",
   "version": "2.7.6"
  },
  "kernelspec": {
   "name": "python3",
   "language": "python",
   "display_name": "Python 3"
  },
  "pycharm": {
   "stem_cell": {
    "cell_type": "raw",
    "source": [],
    "metadata": {
     "collapsed": false
    }
   }
  }
 },
 "nbformat": 4,
 "nbformat_minor": 0
}