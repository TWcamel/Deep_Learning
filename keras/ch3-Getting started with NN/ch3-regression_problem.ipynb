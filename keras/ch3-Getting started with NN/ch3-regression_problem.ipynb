{
 "cells": [
  {
   "cell_type": "markdown",
   "metadata": {
    "collapsed": true,
    "pycharm": {
     "name": "#%% md\n"
    }
   },
   "source": [
    "## 3.6 預測房價：回歸問題\n",
    "本節將要預測Boston使用的房價的數據集，他的數據點比起前兩者較少，只有506個，分為404個訓練樣本與102個測試樣本。輸入數據的每個特徵都有不同的取值範圍；而輸入數據的每個**特徵**(比如犯罪率)都有不同的取值範圍。如：有些特徵是比例，取值範圍為0-1，以些取值範圍則是1-12等等。\n"
   ]
  },
  {
   "cell_type": "code",
   "execution_count": 4,
   "metadata": {
    "pycharm": {
     "is_executing": false,
     "metadata": false,
     "name": "#%%\n"
    }
   },
   "outputs": [
    {
     "name": "stdout",
     "text": [
      "(404, 13)\n(102, 13)\n[15.2 42.3 50.  21.1 17.7 18.5 11.3 15.6 15.6 14.4 12.1 17.9 23.1 19.9\n 15.7  8.8 50.  22.5 24.1 27.5 10.9 30.8 32.9 24.  18.5 13.3 22.9 34.7\n 16.6 17.5 22.3 16.1 14.9 23.1 34.9 25.  13.9 13.1 20.4 20.  15.2 24.7\n 22.2 16.7 12.7 15.6 18.4 21.  30.1 15.1 18.7  9.6 31.5 24.8 19.1 22.\n 14.5 11.  32.  29.4 20.3 24.4 14.6 19.5 14.1 14.3 15.6 10.5  6.3 19.3\n 19.3 13.4 36.4 17.8 13.5 16.5  8.3 14.3 16.  13.4 28.6 43.5 20.2 22.\n 23.  20.7 12.5 48.5 14.6 13.4 23.7 50.  21.7 39.8 38.7 22.2 34.9 22.5\n 31.1 28.7 46.  41.7 21.  26.6 15.  24.4 13.3 21.2 11.7 21.7 19.4 50.\n 22.8 19.7 24.7 36.2 14.2 18.9 18.3 20.6 24.6 18.2  8.7 44.  10.4 13.2\n 21.2 37.  30.7 22.9 20.  19.3 31.7 32.  23.1 18.8 10.9 50.  19.6  5.\n 14.4 19.8 13.8 19.6 23.9 24.5 25.  19.9 17.2 24.6 13.5 26.6 21.4 11.9\n 22.6 19.6  8.5 23.7 23.1 22.4 20.5 23.6 18.4 35.2 23.1 27.9 20.6 23.7\n 28.  13.6 27.1 23.6 20.6 18.2 21.7 17.1  8.4 25.3 13.8 22.2 18.4 20.7\n 31.6 30.5 20.3  8.8 19.2 19.4 23.1 23.  14.8 48.8 22.6 33.4 21.1 13.6\n 32.2 13.1 23.4 18.9 23.9 11.8 23.3 22.8 19.6 16.7 13.4 22.2 20.4 21.8\n 26.4 14.9 24.1 23.8 12.3 29.1 21.  19.5 23.3 23.8 17.8 11.5 21.7 19.9\n 25.  33.4 28.5 21.4 24.3 27.5 33.1 16.2 23.3 48.3 22.9 22.8 13.1 12.7\n 22.6 15.  15.3 10.5 24.  18.5 21.7 19.5 33.2 23.2  5.  19.1 12.7 22.3\n 10.2 13.9 16.3 17.  20.1 29.9 17.2 37.3 45.4 17.8 23.2 29.  22.  18.\n 17.4 34.6 20.1 25.  15.6 24.8 28.2 21.2 21.4 23.8 31.  26.2 17.4 37.9\n 17.5 20.   8.3 23.9  8.4 13.8  7.2 11.7 17.1 21.6 50.  16.1 20.4 20.6\n 21.4 20.6 36.5  8.5 24.8 10.8 21.9 17.3 18.9 36.2 14.9 18.2 33.3 21.8\n 19.7 31.6 24.8 19.4 22.8  7.5 44.8 16.8 18.7 50.  50.  19.5 20.1 50.\n 17.2 20.8 19.3 41.3 20.4 20.5 13.8 16.5 23.9 20.6 31.5 23.3 16.8 14.\n 33.8 36.1 12.8 18.3 18.7 19.1 29.  30.1 50.  50.  22.  11.9 37.6 50.\n 22.7 20.8 23.5 27.9 50.  19.3 23.9 22.6 15.2 21.7 19.2 43.8 20.3 33.2\n 19.9 22.5 32.7 22.  17.1 19.  15.  16.1 25.1 23.7 28.7 37.2 22.6 16.4\n 25.  29.8 22.1 17.4 18.1 30.3 17.5 24.7 12.6 26.5 28.7 13.3 10.4 24.4\n 23.  20.  17.8  7.  11.8 24.4 13.8 19.4 25.2 19.4 19.4 29.1]\n"
     ],
     "output_type": "stream"
    }
   ],
   "source": [
    "# 3-24 加載波士頓房價數據\n",
    "from keras.datasets import boston_housing\n",
    "\n",
    "(train_data, train_targets), (test_data, test_targets) = boston_housing.load_data()\n",
    "\n",
    "print(train_data.shape)\n",
    "print(test_data.shape)\n",
    "\n",
    "print(train_targets)        # 列出房價\n",
    "\n",
    "###\n",
    "# 如結果所示，404個訓練樣本與102個測試樣本中，\n",
    "# 每個樣本都有13個數值特徵，比如人均犯罪率、高速公路可達性等\n",
    "# 然而，這些房價數據沒有經過通貨膨脹進行調整\n",
    "###\n"
   ]
  },
  {
   "cell_type": "markdown",
   "metadata": {
    "pycharm": {
     "metadata": false,
     "name": "#%% md\n"
    }
   },
   "source": [
    "### 3.6.2 準備數據\n",
    "將取值範圍差異很大的數據輸入到NN中，我們普遍採用的方法是對每個特徵做標準化。也就是對於輸入數據的特徵(輸入數據矩陣中的列)，減去特徵平均值，再除以標準差，如下。\n"
   ]
  },
  {
   "cell_type": "code",
   "execution_count": 5,
   "metadata": {
    "pycharm": {
     "is_executing": false,
     "metadata": false,
     "name": "#%%\n"
    }
   },
   "outputs": [],
   "source": [
    "# 3-25 數據標準化\n",
    "\n",
    "###\n",
    "# 為了將取值範圍差異極大的多類別統一當作參考\n",
    "# 我們要將輸入數據標準化\n",
    "###\n",
    "mean = train_data.mean(axis=0)\n",
    "train_data -= mean\n",
    "std = train_data.std(axis=0)\n",
    "train_data /= std\n",
    "\n",
    "test_data -= mean\n",
    "test_data /= std\n"
   ]
  },
  {
   "cell_type": "code",
   "execution_count": 6,
   "metadata": {
    "pycharm": {
     "is_executing": false,
     "metadata": false,
     "name": "#%%\n"
    }
   },
   "outputs": [],
   "source": [
    "# 3-26 模型定義\n",
    "from keras import models\n",
    "from keras import layers\n",
    "\n",
    "def build_model():              # 因為需要將同一個模型多次實例化，所以用一個函數來構建模型\n",
    "    model = models.Sequential()\n",
    "    model.add(layers.Dense(64, activation='relu',\n",
    "                           input_shape=(train_data.shape[1],)))\n",
    "    model.add(layers.Dense(64, activation='relu'))\n",
    "    model.add(layers.Dense(1))  # 只有一個線性層，沒有激活函數，這是標量回歸的典型設置\n",
    "    model.compile(optimizer='rmsprop', loss='mse', metrics=['mae'])\n",
    "    return model\n"
   ]
  },
  {
   "cell_type": "markdown",
   "metadata": {
    "pycharm": {
     "metadata": false,
     "name": "#%% md\n"
    }
   },
   "source": [
    "### 利用K折驗證來驗證我們的方法 ( 適用小規模之dataset )\n",
    "由於我們的數據點很少，驗證集也就非常小( 比如大約100個樣本 )，因此，驗證分數可能會有很大的波動。<br><br>\n",
    "\n",
    "在這種情況下，我們可以使用K折驗證來彌補這點(見下圖3-11)。這種方法將可用數據化氛為K個分區，實例化K個相同的模型，將每個模型在K-1個分區上訓練，並在剩下的一個分區上進行驗證。模型的驗證分數等於K個驗證分數的平均值。如中所示為3折交叉驗證。<br>\n",
    "![3.6.4](../img/3.6.4.PNG)\n"
   ]
  },
  {
   "cell_type": "code",
   "execution_count": 8,
   "metadata": {
    "pycharm": {
     "is_executing": false,
     "metadata": false,
     "name": "#%%\n"
    }
   },
   "outputs": [
    {
     "name": "stdout",
     "text": [
      "processing fold # 0\n",
      "[2.3135515734700873] \n\nprocessing fold # 1\n",
      "[2.3135515734700873, 2.7014576326502433] \n\nprocessing fold # 2\n",
      "[2.3135515734700873, 2.7014576326502433, 2.6092808931180747] \n\nprocessing fold # 3\n",
      "[2.3135515734700873, 2.7014576326502433, 2.6092808931180747, 2.5850302925204285] \n\n2.5523300979397083\n"
     ],
     "output_type": "stream"
    }
   ],
   "source": [
    "# 3-27 K折驗證\n",
    "import numpy as np\n",
    "\n",
    "k = 4                                   # K 通常取4或5\n",
    "num_val_samples = len(train_data) // k\n",
    "num_epochs = 100\n",
    "all_scores = []\n",
    "for i in range(k):\n",
    "    print('processing fold #', i)       # 印出目前為第幾折\n",
    "    val_data = train_data[\n",
    "               i * num_val_samples: \n",
    "               (i + 1) * \n",
    "               num_val_samples]         # 準備驗證數據：第K個分區的數據\n",
    "    val_targets = train_targets[\n",
    "                  i * num_val_samples: \n",
    "                  (i + 1) * \n",
    "                  num_val_samples] \n",
    "    \n",
    "    partial_train_data = np.concatenate(# 準備訓練數據：其他所有分區的數據\n",
    "            [train_data[:i * num_val_samples],\n",
    "             train_data[(i + 1) * num_val_samples:]],\n",
    "            axis=0)\n",
    "    \n",
    "    partial_train_targets = np.concatenate(\n",
    "            [train_targets[:i * num_val_samples],\n",
    "             train_targets[(i + 1) * num_val_samples:]],\n",
    "            axis=0)\n",
    "    \n",
    "    model = build_model()               # 構建keras模型( 已編譯 )\n",
    "    model.fit(partial_train_data,       # 訓練模型( 靜默模式, verbose=0 ) \n",
    "              partial_train_targets,\n",
    "              epochs=num_epochs, \n",
    "              batch_size=1, verbose=0)\n",
    "    val_mse, val_mae = model.evaluate(\n",
    "        val_data, \n",
    "        val_targets, verbose=0)         # 在驗證數據上評估模型\n",
    "    \n",
    "    all_scores.append(val_mae)\n",
    "    \n",
    "    print(all_scores,'\\n')\n",
    "print(np.mean(all_scores))\n",
    "    "
   ]
  },
  {
   "cell_type": "code",
   "execution_count": 9,
   "metadata": {
    "pycharm": {
     "is_executing": false,
     "metadata": false,
     "name": "#%%\n"
    }
   },
   "outputs": [
    {
     "name": "stdout",
     "text": [
      "processing fold # 0\n",
      "processing fold # 1\n",
      "processing fold # 2\n",
      "processing fold # 3\n"
     ],
     "output_type": "stream"
    }
   ],
   "source": [
    "# 3-28 保存每折的驗證結果\n",
    "\n",
    "###\n",
    "# 由於輸出結果不理想，因此，\n",
    "# 我們需要保存每折的驗證結果，\n",
    "# 並且，將輪次的數目調整到500。\n",
    "###\n",
    "\n",
    "num_epochs = 500\n",
    "all_mae_histories = []\n",
    "for i in range(k):\n",
    "    print('processing fold #', i)\n",
    "    val_data = train_data[i * num_val_samples: (i + 1) * num_val_samples]   # 準備驗證數據：第K個分區的數據\n",
    "    val_targets = train_targets[i * num_val_samples: (i + 1) * num_val_samples]\n",
    "    partial_train_data = np.concatenate(                                    # 準備訓練數據：其他所有分區的數據\n",
    "        [train_data[:i * num_val_samples],\n",
    "         train_data[(i + 1) * num_val_samples:]],\n",
    "        axis=0)\n",
    "    partial_train_targets = np.concatenate(\n",
    "        [train_targets[:i * num_val_samples],\n",
    "         train_targets[(i + 1) * num_val_samples:]],\n",
    "        axis=0)\n",
    "\n",
    "    model = build_model()       # 構建Keras模型\n",
    "    history = model.fit(partial_train_data, partial_train_targets,          # 訓練模型 ( 靜默模式, verbose=0)\n",
    "                        validation_data=(val_data, val_targets),\n",
    "                        epochs=num_epochs, batch_size=1, verbose=0)\n",
    "    mae_history = history.history['val_mean_absolute_error']\n",
    "    all_mae_histories.append(mae_history)\n",
    "    "
   ]
  },
  {
   "cell_type": "code",
   "execution_count": 10,
   "metadata": {
    "pycharm": {
     "is_executing": false,
     "metadata": false,
     "name": "#%%\n"
    }
   },
   "outputs": [],
   "source": [
    "# 3-29 計算所有輪次中的K折驗證分數平均值\n",
    "average_mae_history = [\n",
    "    np.mean([x[i] for x in all_mae_histories]) for i in range(num_epochs)]\n"
   ]
  },
  {
   "cell_type": "code",
   "execution_count": 12,
   "metadata": {
    "pycharm": {
     "is_executing": false,
     "metadata": false,
     "name": "#%%\n"
    }
   },
   "outputs": [
    {
     "data": {
      "text/plain": "<Figure size 432x288 with 1 Axes>",
      "image/png": "[encoded data removed]"
     },
     "metadata": {
      "needs_background": "light"
     },
     "output_type": "display_data"
    }
   ],
   "source": [
    "# 3-30 繪製驗證分數\n",
    "\n",
    "import matplotlib.pyplot as plt\n",
    "%matplotlib inline\n",
    "\n",
    "plt.plot(range(1, len(average_mae_history) + 1), average_mae_history)\n",
    "plt.xlabel('Epochs')\n",
    "plt.ylabel('Validation MAE')\n",
    "plt.show()\n"
   ]
  },
  {
   "cell_type": "markdown",
   "metadata": {
    "pycharm": {
     "metadata": false,
     "name": "#%% md\n"
    }
   },
   "source": [
    "因為縱軸的範圍廣大，加上數據方差相對較大，所以難以看清楚這張圖的規律，我們來重新繪製前一張圖，更動如下：\n",
    "* 刪除前10個數據點，因為他們的取值範圍與曲線上的其他點不同。\n",
    "* 將每個數據點替換為前面數據點的指數移動平均值，已得到光滑的曲線。<br>\n",
    "結果如下所示。\n"
   ]
  },
  {
   "cell_type": "code",
   "execution_count": 13,
   "metadata": {
    "pycharm": {
     "metadata": false,
     "name": "#%%\n",
     "is_executing": false
    }
   },
   "outputs": [
    {
     "data": {
      "text/plain": "<Figure size 432x288 with 1 Axes>",
      "image/png": "[encoded data removed]"
     },
     "metadata": {
      "needs_background": "light"
     },
     "output_type": "display_data"
    }
   ],
   "source": [
    "# 3-31 繪製驗證分數( 刪除前10個數據點 )\n",
    "\n",
    "%matplotlib inline \n",
    "def smooth_curve(points, factor=0.9):\n",
    "  smoothed_points = []\n",
    "  for point in points:\n",
    "    if smoothed_points:\n",
    "      previous = smoothed_points[-1]\n",
    "      smoothed_points.append(previous * factor + point * (1 - factor))\n",
    "    else:\n",
    "      smoothed_points.append(point)\n",
    "  return smoothed_points\n",
    "\n",
    "smooth_mae_history = smooth_curve(average_mae_history[10:])\n",
    "\n",
    "plt.plot(range(1, len(smooth_mae_history) + 1), smooth_mae_history)\n",
    "plt.xlabel('Epochs')\n",
    "plt.ylabel('Validation MAE')\n",
    "plt.show()\n"
   ]
  },
  {
   "cell_type": "code",
   "execution_count": null,
   "metadata": {
    "pycharm": {
     "metadata": false,
     "name": "#%%\n"
    }
   },
   "outputs": [],
   "source": [
    "# 3-32 訓練最終模型\n",
    "model = build_model()               # 一個全新、編譯好的模型\n",
    "model.fit(train_data,train_targets, # 在所有訓練數據上訓練模型\n",
    "          epochs=80, batch_size=16,\n",
    "          verbose=0)\n",
    "test_mse_score, test_mae_score = model.evaluate(test_data, test_targets)    #在全新，未見過的資料集上測試該模型的泛化程度\n",
    "print(test_mae_score)               # 列出預測房價與真實房價之差別\n"
   ]
  },
  {
   "cell_type": "markdown",
   "metadata": {
    "pycharm": {
     "metadata": false,
     "name": "#%% md\n"
    }
   },
   "source": [
    "### 3.6.5 小結\n",
    "下面是我們應該從此例中學習到的要點。<br>\n",
    "* 回歸問題與分類問題使用不同的損失函數，分別為MSE與crossentropy。\n",
    "* 同樣，回歸問題與分類問題使用的評估指標亦不相同，準確度的概念不適用於回歸問題，而MAE才是較適合的替代者。\n",
    "* 如果輸入數據的特徵具有不同的取值範圍，應該先進行預處理，對每個特徵單獨進行縮放，即進行標準化動作。\n",
    "* 如果可用的數據很少，使用K折交叉驗證可以有策略地進行評估模型。\n",
    "* 如果可用的訓練數據很少，最好使用隱藏層較少的小型網路，以避免嚴重的過擬合問題。\n"
   ]
  }
 ],
 "metadata": {
  "kernelspec": {
   "display_name": "Python 3",
   "language": "python",
   "name": "python3"
  },
  "language_info": {
   "codemirror_mode": {
    "name": "ipython",
    "version": 3
   },
   "file_extension": ".py",
   "mimetype": "text/x-python",
   "name": "python",
   "nbconvert_exporter": "python",
   "pygments_lexer": "ipython3",
   "version": "3.7.3"
  },
  "pycharm": {
   "stem_cell": {
    "cell_type": "raw",
    "source": [],
    "metadata": {
     "collapsed": false
    }
   }
  }
 },
 "nbformat": 4,
 "nbformat_minor": 1
}