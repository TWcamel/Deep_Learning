{
 "cells": [
  {
   "cell_type": "code",
   "execution_count": 28,
   "metadata": {},
   "outputs": [],
   "source": [
    "import tensorflow as tf\n",
    "##  欲生成一個記數的var，每次往上加一  ##\n",
    "\n",
    "state = tf.Variable(0,name='counter') ##在tf框架中，一定要定義state是一個var，python才會知道這是一個var!!!\n",
    "#print (state.name)\n",
    "\n",
    "one = tf.constant(1) #新增一個純量\n",
    "\n",
    "new_value = tf.add(state, one) #純量+純量=純量 (皆0維度)，此步驟旨在數字可運算的矩陣\n",
    "update = tf.assign(state, new_value)  #把new_value加到state上，因此 step1: update = 0(state) + 1(new_value) = 1"
   ]
  },
  {
   "cell_type": "code",
   "execution_count": 29,
   "metadata": {},
   "outputs": [],
   "source": [
    "init = tf.global_variables_initializer() #must have if define varialbe"
   ]
  },
  {
   "cell_type": "code",
   "execution_count": 30,
   "metadata": {},
   "outputs": [
    {
     "name": "stdout",
     "output_type": "stream",
     "text": [
      "2\n",
      "4\n",
      "6\n"
     ]
    }
   ],
   "source": [
    "with tf.Session() as sess:\n",
    "    sess.run(init) #先初始化所有參數\n",
    "    for _ in range(3): #所有參數做三次循環\n",
    "        sess.run(update)\n",
    "        print(sess.run(update))  #     step2: update = 1 + 1 = 2\n",
    "                                #     step3: update = 2 + 1 = 3                       "
   ]
  },
  {
   "cell_type": "code",
   "execution_count": null,
   "metadata": {},
   "outputs": [],
   "source": []
  }
 ],
 "metadata": {
  "kernelspec": {
   "display_name": "Python 3",
   "language": "python",
   "name": "python3"
  },
  "language_info": {
   "codemirror_mode": {
    "name": "ipython",
    "version": 3
   },
   "file_extension": ".py",
   "mimetype": "text/x-python",
   "name": "python",
   "nbconvert_exporter": "python",
   "pygments_lexer": "ipython3",
   "version": "3.6.7"
  }
 },
 "nbformat": 4,
 "nbformat_minor": 2
}
