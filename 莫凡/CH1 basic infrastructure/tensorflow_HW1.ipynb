{
 "cells": [
  {
   "cell_type": "code",
   "execution_count": 32,
   "metadata": {},
   "outputs": [],
   "source": [
    "import tensorflow as tf\n",
    "import numpy as np\n",
    "\n",
    "#create data\n",
    "x_data = np.random.rand(100).astype(np.float32) #訂製此數據為float32，因為大部分數據為此形式\n",
    "y_data = x_data*.1+.3"
   ]
  },
  {
   "cell_type": "code",
   "execution_count": 33,
   "metadata": {},
   "outputs": [],
   "source": [
    "### create tnesorlow structure start ###\n",
    "Weights = tf.Variable(tf.random_uniform([1],-1,1)) #生成一個隨機數，以uniform[-1~1]方式生成\n",
    "biases = tf.Variable(tf.zeros([1])) #初始化biases\n",
    "\n",
    "y = Weights * x_data + biases\n",
    "\n",
    "loss = tf.reduce_mean(tf.square(y-y_data)) #計算誤差(損失度函數)\n",
    "\n",
    "##  compute Propagation error  ##\n",
    "optimizer = tf.train.GradientDescentOptimizer(0.5) #計算反向傳播的誤差\n",
    "train = optimizer.minimize(loss) \n",
    "\n",
    "init = tf.global_variables_initializer() #初始化神經網路架構\n",
    "### create tensorlow structure end ###"
   ]
  },
  {
   "cell_type": "code",
   "execution_count": 34,
   "metadata": {},
   "outputs": [],
   "source": [
    "#激勵函數\n",
    "sess = tf.Session() #此Session就像指針，指向的地方就被繳活了!\n",
    "sess.run(init)  #very important, lots of people forget to do this step"
   ]
  },
  {
   "cell_type": "code",
   "execution_count": 35,
   "metadata": {},
   "outputs": [
    {
     "name": "stdout",
     "output_type": "stream",
     "text": [
      "0 [-0.13152117] [0.59637433]\n",
      "20 [0.00596249] [0.3510455]\n",
      "40 [0.07082385] [0.3158374]\n",
      "60 [0.09094779] [0.30491373]\n",
      "80 [0.09719145] [0.30152455]\n",
      "100 [0.09912862] [0.300473]\n",
      "120 [0.09972966] [0.30014676]\n",
      "140 [0.09991613] [0.30004555]\n",
      "160 [0.09997397] [0.30001414]\n",
      "180 [0.09999193] [0.3000044]\n",
      "200 [0.0999975] [0.30000138]\n"
     ]
    }
   ],
   "source": [
    "for step in range(208): #讓此模型學習209步\n",
    "    sess.run(train)\n",
    "    if step % 20 == 0: #每20步就print出y輸出結果一次\n",
    "        print(step, sess.run(Weights), sess.run(biases))"
   ]
  },
  {
   "cell_type": "code",
   "execution_count": null,
   "metadata": {},
   "outputs": [],
   "source": []
  }
 ],
 "metadata": {
  "kernelspec": {
   "display_name": "Python 3",
   "language": "python",
   "name": "python3"
  },
  "language_info": {
   "codemirror_mode": {
    "name": "ipython",
    "version": 3
   },
   "file_extension": ".py",
   "mimetype": "text/x-python",
   "name": "python",
   "nbconvert_exporter": "python",
   "pygments_lexer": "ipython3",
   "version": "3.6.7"
  }
 },
 "nbformat": 4,
 "nbformat_minor": 2
}
