{
 "cells": [
  {
   "cell_type": "markdown",
   "metadata": {
    "pycharm": {
     "metadata": false,
     "name": "#%% md\n"
    }
   },
   "source": [
    "# 誤差反向傳播反\n",
    "上一章節說明了神經網路的「學習」。此時，神經網路權重參數的梯度( 精確來說是與參數有關的損失函數梯度 )，是利用數值微分計算出來。數值微分很簡單，執行起來也不難，但運算卻較花時間。因此本章要學習的「誤差反向傳播法」，是能以良好效率計算出權重參數梯度的方法。<br><br>\n",
    "\n",
    "計算誤差反向傳播法有兩種方法，一是利用「算式」，另一種是用「計算圖( computational graph )」。前者雖簡潔但可能忽略掉本質，迷失於算式中，後者則反之。\n",
    "\n"
   ]
  },
  {
   "cell_type": "markdown",
   "metadata": {
    "pycharm": {
     "metadata": false
    }
   },
   "source": [
    "## 5.1 計算圖\n",
    "計算圖中的+節點代表複合函數從內到外拆解( forward )，$\\times$節點則代表複合函數由外到內拆解( backward )，而這兩種拆解動作作用於計算圖上時，是以「層級」為單位。\n"
   ]
  },
  {
   "cell_type": "markdown",
   "metadata": {
    "pycharm": {
     "metadata": false
    }
   },
   "source": [
    "## 5.2 執行單純的層級\n",
    "層級是用來執行forward()和backward()等共通方法( 介面 )的部分。 forward()是對應正向傳播，backward()則對應到反向傳播。<br><br>\n",
    "接著要執行乘法層。\n"
   ]
  },
  {
   "cell_type": "code",
   "execution_count": null,
   "metadata": {
    "pycharm": {
     "metadata": false,
     "name": "#%%\n"
    }
   },
   "outputs": [],
   "source": [
    "class MulLayer:\n",
    "    def __init__(self):\n",
    "        self.x = None\n",
    "        self.y = None\n",
    "        \n",
    "    def forward(self, x, y):\n",
    "        self.x = x\n",
    "        self.y = y\n",
    "        out = x* y\n",
    "        \n",
    "        return out\n",
    "    def backward(self, dout):\n",
    "        dx = dout * self.y #x與y相反\n",
    "        dy = dout * self.x\n",
    "        \n",
    "        return dx, dy\n",
    "    "
   ]
  },
  {
   "cell_type": "markdown",
   "metadata": {
    "pycharm": {
     "metadata": false
    }
   },
   "source": [
    "### 解說\n",
    "在 __init__中，進行實例變數x與y的初始化，用來保持正向傳播時的輸入值。在forward()中，取得x與y等兩個引數。然而，在backward()中，針對上層傳來的微分( dout )，乘上正向傳播的「相反值」在傳遞給下層。\n"
   ]
  },
  {
   "cell_type": "markdown",
   "metadata": {
    "pycharm": {
     "metadata": false
    }
   },
   "source": [
    "## 5.3 執行活化函數層\n",
    "接下來我們將計算圖的思考方法套用在神經網路上，這裡把神經網路的「層」當一個類別來處理。首先，要執行活化函數ReLU與Sigmoid層。\n"
   ]
  },
  {
   "cell_type": "markdown",
   "metadata": {
    "pycharm": {
     "metadata": false,
     "name": "#%% md\n"
    }
   },
   "source": [
    "### ReLU層"
   ]
  },
  {
   "cell_type": "code",
   "execution_count": null,
   "metadata": {
    "pycharm": {
     "metadata": false,
     "name": "#%%\n"
    }
   },
   "outputs": [],
   "source": [
    "# ReLU層\n",
    "class Relu:\n",
    "    def __init__(self):\n",
    "        self.mask = None # 實例變數mask\n",
    "                         # 是由True / False 組成的Numpy陣列\n",
    "    \n",
    "    def forward(self, x):\n",
    "        self.mask = (x <= 0)\n",
    "        out = x.copy()\n",
    "        out[self.mask] = 0\n",
    "        \n",
    "        return out\n",
    "    \n",
    "    def backward(self, dout):\n",
    "        dout[self.mask] = 0\n",
    "        dx = dout\n",
    "        \n",
    "        return dx\n",
    "\n",
    "# 如果正向傳播時的輸入值小於0，反向傳播的值就會變成0\n",
    "# 因此，在反向傳播中，使用正向傳播的mask，針對上層傳來的dout\n",
    "# 將mask元素為True的位置設定為0\n"
   ]
  },
  {
   "cell_type": "markdown",
   "metadata": {
    "pycharm": {
     "metadata": false,
     "name": "#%% md\n"
    }
   },
   "source": [
    "### Sigmoid層\n",
    "Sigmoid函數為：<br>\n",
    "$\n",
    "y = \\frac{1}{1+exp(-x)} \\tag{5.1}\n",
    "$<br>\n",
    "其中，裡面運算子元素有「$\\times$」、「+」、「exp」、「/」節點。<br>\n",
    "\n"
   ]
  },
  {
   "cell_type": "code",
   "execution_count": null,
   "metadata": {
    "pycharm": {
     "metadata": false,
     "name": "#%%\n"
    }
   },
   "outputs": [],
   "source": [
    "import numpy as np\n",
    "class Sigmoid:\n",
    "    def __init__(self):\n",
    "        self.out = None\n",
    "    \n",
    "    def forward(self, x):\n",
    "        out = 1 / (1+ np.exp(-x))\n",
    "        self.out = out\n",
    "    \n",
    "        return out\n",
    "    \n",
    "    def backward(self, dout):\n",
    "        dx = dout * (1 - self.out) # 由公式解推導而得到!( p132 ) \n",
    "        \n",
    "        return dx\n"
   ]
  },
  {
   "cell_type": "markdown",
   "metadata": {
    "pycharm": {
     "metadata": false
    }
   },
   "source": [
    "## 5.4 執行 Attine \n",
    "### Affine 層 ( 仿射轉換 )\n",
    "在神經網路的正向傳播中，使用了矩陣乘積(np.dot())，計算含有權重訊號的總和。\n"
   ]
  },
  {
   "cell_type": "code",
   "execution_count": 1,
   "metadata": {
    "pycharm": {
     "is_executing": false,
     "metadata": false,
     "name": "#%% \n"
    }
   },
   "outputs": [],
   "source": [
    "class Affine: #證明在p134~p136\n",
    "    def __init__(self, W, b):\n",
    "        self.W = W\n",
    "        self.b = b\n",
    "        self.x = None\n",
    "        self.dW = None\n",
    "        self.db = None\n",
    "        \n",
    "    def forward(self, x):\n",
    "        self.x = x\n",
    "        out = np.dot(x, self.W) + self.b\n",
    "        \n",
    "        return out\n",
    "    \n",
    "    def backward(self, dout):\n",
    "        dx = np.dot(dout, self.W.T)\n",
    "        self.dW = np.dot(self.x.T, dout)\n",
    "        self.db = np.sum(dout, axis=0)\n",
    "        \n",
    "        return dx\n",
    "    "
   ]
  },
  {
   "cell_type": "markdown",
   "metadata": {
    "pycharm": {
     "metadata": false,
     "name": "#%% md\n"
    }
   },
   "source": [
    "## 5.5 執行 Softmax 層\n",
    "最後要說明的是softmax函數。Soft函數是將輸入值正規化後再輸出。如下圖所示。<br>\n",
    "![5.5 softmax](./img/5-5.jpg)<br>\n",
    "由圖片中可知，神經網路的處理分成「推論」以及「學習」階段，解釋如圖。<br>\n",
    "接下來要執行的softmax層，這裡要執行的是，包含損失函數的交叉熵誤差( cross entropy error )之「 Softmax-with-Loss 層 」。<br>\n",
    "![5.5 softmax with loss](./img/5.5.1.PNG)<br>\n",
    " \n",
    "由上圖可知，來自Softmax的層的反向傳播，形成($y_1-t_1, y_2-t_2, y_3-t_3$)這樣的「整齊」結果。($y_1,y_2,y_3$)是Softmax層的輸出，($t_1, t_2, t_3$)則是訓練資料，所以($y_1-t_1, y_2-t_2, y_3-t_3$)是Softmax層的輸出與訓練資料的差分。因為，在神經網路的反向傳播中，這個差分的誤差會傳遞給上一層。對於神經網路的學習而言，是非常重要的性質。<br><br>\n",
    "\n",
    "神經網路的學習目的是，調整權重參數，讓經網路的輸出(Softmax的輸出)趨近訓練資料。因此神經網路的輸出與訓練吃資料的誤差，必須有效率地傳送給上一層。剛才($y_1-t_1, y_2-t_2, y_3-t_3$)的結果等於Softmax層輸出與訓練資料的差直接表現出目前神經網路的輸出與訓練資料的誤差。<br>\n",
    "\n",
    "{note}使用MSE當作Softmax函數的損失函數時，反向傳播也會得到($y_1-t_1, y_2-t_2, y_3-t_3$)這種整齊的結果。<br><br>\n"
   ]
  },
  {
   "cell_type": "code",
   "execution_count": 2,
   "metadata": {
    "pycharm": {
     "is_executing": false,
     "metadata": false,
     "name": "#%%\n"
    }
   },
   "outputs": [],
   "source": [
    "import numpy as np\n",
    "\n",
    "def cross_entropy_error(y, t):\n",
    "    delta = 1e-7\n",
    "    return -np.sum(t * np.log(y + delta))\n",
    "\n",
    "def softmax (a):\n",
    "    c = np.max(a)\n",
    "    exp_a = np.exp(a-c) #防範溢位!\n",
    "    sum_exp_a = np.sum(exp_a)\n",
    "    y = exp_a / sum_exp_a\n",
    "    \n",
    "    return y\n",
    "\n",
    "class SoftmaxWithLoss:\n",
    "    def __init__(self):\n",
    "        self.loss = None # 損失函數\n",
    "        self.y = None    # Softmax的輸出\n",
    "        self.t = None    # 訓練資料( one-hot vector ) \n",
    "    \n",
    "    def forward(self, x, t):\n",
    "        self.t = t\n",
    "        self.y = softmax(x)\n",
    "        self.loss = cross_entropy_error(self.y, self.t)\n",
    "        \n",
    "    def backward(self, dout = 1):\n",
    "        batch_size = self.t.shape[0]\n",
    "        dx = (self.y - self.t) / batch_size #此處以計算圖叫好理解 (看上面的圖)\n",
    "        \n",
    "        return dx\n"
   ]
  },
  {
   "cell_type": "markdown",
   "metadata": {
    "pycharm": {
     "metadata": false,
     "name": "#%% md\n"
    }
   },
   "source": [
    "## 5.6 執行誤差反向傳播法\n",
    "組合上一節執行過的各個層級，就能像組合樂高般，建構出神經網路。因此，這裡要一邊組合前面執行過的各層，一邊建構神經網路。<br><br>\n"
   ]
  },
  {
   "cell_type": "markdown",
   "metadata": {
    "pycharm": {
     "metadata": false
    }
   },
   "source": [
    "### 5.6.1 神經網路的學習總圖\n",
    "在實際開始執行前，我們先再次確認神經網路的學習總圖。接著再列出神經網路的學習步驟。<br><br>\n",
    "\n",
    "* 前提<br>\n",
    "神經網路具有可適應的權重與偏權值，調整權重與偏權值，以適應訓練資料，這種過程稱作「學習」。神經網路的學習可以分成以下4步驟進行。<br><br>\n",
    "\n",
    "* 步驟一( 小批次 )<br>\n",
    "從訓練資料中，隨機抽取部分資料。\n",
    "\n",
    "* 步驟二( 計算梯度 )<br>\n",
    "計算與各權重參數有關的損失函數梯度。\n",
    "\n",
    "* 步驟三( 更新參數 )<br>\n",
    "往梯度方向微量更新權重參數。\n",
    "\n",
    "* 步驟四( 重複 )<br>\n",
    "重複以上步驟。<br><br>\n",
    "\n",
    "與前面說明過的不同的是，步驟二的「計算梯度」。上一章節使用了數值微分來算梯度，數值微分可以輕易執行，但是相對來說，需要花的時間與之相比會較高。\n"
   ]
  },
  {
   "cell_type": "markdown",
   "metadata": {
    "pycharm": {
     "metadata": false
    }
   },
   "source": [
    "### 5.6.2 執行對應誤差反向傳播法的神經網路\n",
    "接下來，我們將以TwoLayerNet來執行。首先，整理這個類別的實例變數與方法如下圖。<br>\n",
    "![5.6誤差反向傳播法的神經網路](./img/5.6.jpg) <br><br>\n",
    "\n",
    "大部分內容與上一章的「4.5執行學習演算法」共通。與之不同的是，這裡主要使用的是層級。利用層級傳播，就能達到處理辨識結果(predict())、計算梯度(gradient())的目的。\n"
   ]
  },
  {
   "cell_type": "code",
   "execution_count": 3,
   "metadata": {
    "pycharm": {
     "is_executing": false,
     "metadata": false,
     "name": "#%%\n"
    }
   },
   "outputs": [],
   "source": [
    "import sys, os\n",
    "sys.path.append(os.path.abspath('./dl_ex')) #載入父目錄檔案的設定\n",
    "import numpy as np\n",
    "from dl_ex.common.layers import *\n",
    "from dl_ex.common.gradient import numerical_gradient\n",
    "from collections import OrderedDict\n",
    "\n",
    "class TwoLayerNet:\n",
    "\n",
    "    def __init__(self, input_size, hidden_size, output_size, \n",
    "                 weight_init_std=0.01):\n",
    "        # 權重初始化\n",
    "        self.params = {}\n",
    "        self.params['W1'] = weight_init_std * \\\n",
    "                            np.random.randn(input_size, hidden_size)\n",
    "        \n",
    "        self.params['b1'] = np.zeros(hidden_size)\n",
    "        \n",
    "        self.params['W2'] = weight_init_std * \\\n",
    "                            np.random.randn(hidden_size, output_size)\n",
    "        \n",
    "        self.params['b2'] = np.zeros(output_size)\n",
    "\n",
    "        # 產生各層級\n",
    "        self.layers = OrderedDict()\n",
    "        self.layers['Affine1'] = \\\n",
    "            Affine(self.params['W1'], self.params['b1'])\n",
    "        self.layers['Relu1'] = Relu()\n",
    "        self.layers['Affine2'] = \\\n",
    "            Affine(self.params['W2'], self.params['b2'])\n",
    "        \n",
    "        self.lastLayer = SoftmaxWithLoss()\n",
    "            \n",
    "    def predict(self, x):\n",
    "        for layer in self.layers.values():\n",
    "            x = layer.forward(x)\n",
    "    \n",
    "    # x:輸入資料, t:訓練資料\n",
    "    def loss(self, x, t):\n",
    "        y = self.predict(x)\n",
    "        \n",
    "        return self.lastLayer.forward(y, t)\n",
    "    \n",
    "    def accuracy(self, x, t):\n",
    "        y = self.predict(x)\n",
    "        y = np.argmax(y, axis=1)\n",
    "        if t.ndim != 1 : \n",
    "            t = np.argmax(t, axis = 1)\n",
    "        \n",
    "        accuracy = np.sum( y == t) /  float(x.shape[0])\n",
    "        return accuracy\n",
    "    \n",
    "    # x:輸入資料, t:訓練資料\n",
    "    def numerical_gradient(self, x, t):\n",
    "        loss_W = lambda W: self.loss(x, t)\n",
    "        \n",
    "        grads = {}\n",
    "        grads['W1'] = numerical_gradient(loss_W, self.params['W1'])\n",
    "        grads['b1'] = numerical_gradient(loss_W, self.params['b1'])\n",
    "        grads['W2'] = numerical_gradient(loss_W, self.params['W2'])\n",
    "        grads['b2'] = numerical_gradient(loss_W, self.params['b2'])\n",
    "        \n",
    "        return grads\n",
    "    \n",
    "    def gradient(self, x, t):\n",
    "        # forward\n",
    "        self.loss(x, t)\n",
    "        \n",
    "        # backward\n",
    "        dout = 1\n",
    "        dout = self.lastLayer.backward(dout)\n",
    "        \n",
    "        layers = list(self.layers.values())\n",
    "        layers.reverse()\n",
    "        for layer in layers:\n",
    "            dout = layer.backward(dout)\n",
    "            \n",
    "        # 設定\n",
    "        grads = {}\n",
    "        grads['W1'] = self.layers['Affine1'].dW\n",
    "        grads['b1'] = self.layers['Affine1'].db\n",
    "        grads['W2'] = self.layers['Affine2'].dW\n",
    "        grads['b2'] = self.layers['Affine2'].db\n",
    "        \n",
    "        return grads\n",
    "    "
   ]
  },
  {
   "cell_type": "markdown",
   "metadata": {
    "pycharm": {
     "metadata": false
    }
   },
   "source": [
    "### 解說\n",
    "這裡有個重要的概念，就是把神經網路的層當作OrderedDict這一點極為重要。OrderedDict是有序字典。因此，神經網路的正向傳播，只要按造順序呼叫出各層的forward()方法，就能處理完神經網路的前向傳播。另外，反向傳播也只要依造相反方向來呼叫各層即可。<br><br>\n",
    "\n",
    "Affine層以及ReLU層各自在內部已經處理好正向傳播與反向傳播，而在此進行的是，按造正確順序連結各層，並且依序( 或相反順序 )呼叫出各層即可。\n",
    "\n"
   ]
  },
  {
   "cell_type": "markdown",
   "metadata": {
    "pycharm": {
     "metadata": false,
     "name": "#%% md\n"
    }
   },
   "source": [
    "### 5.6.3 梯度檢查\n",
    "以數值微分的方式來檢查誤差梯度反向傳播法，這種方式稱為「梯度檢查 ( gradient check )」。\n"
   ]
  },
  {
   "cell_type": "code",
   "execution_count": 7,
   "metadata": {
    "pycharm": {
     "is_executing": false,
     "metadata": false,
     "name": "#%%\n"
    }
   },
   "outputs": [
    {
     "name": "stdout",
     "output_type": "stream",
     "text": [
      "W1:5.052772720822389e-10\n",
      "b1:3.051291303630098e-09\n",
      "W2:5.828749507746217e-09\n",
      "b2:1.3928355015319083e-07\n"
     ]
    }
   ],
   "source": [
    "import sys, os\n",
    "sys.path.append(os.path.abspath('./dl_ex')) #載入父目錄檔案的設定\n",
    "import numpy as np\n",
    "from dl_ex.dataset.mnist import load_mnist\n",
    "from dl_ex.ch05.two_layer_net import TwoLayerNet\n",
    "\n",
    "# 載入資料\n",
    "(x_train, t_train), (x_test, t_test) = load_mnist(normalize=True, one_hot_label=True)\n",
    "\n",
    "network = TwoLayerNet(input_size = 784, hidden_size = 50, output_size = 10)\n",
    "\n",
    "x_batch = x_train[:3]\n",
    "t_batch = t_train[:3]\n",
    "\n",
    "grad_numerical = network.numerical_gradient(x_batch, t_batch)\n",
    "grad_backprop = network.gradient(x_batch, t_batch)\n",
    "\n",
    "# 計算各權重的絕對誤差平均值\n",
    "for key in grad_numerical.keys():\n",
    "    diff = np.average( np.abs(grad_backprop[key] - grad_numerical[key]))\n",
    "    print(key + \":\" + str(diff))\n",
    "    "
   ]
  },
  {
   "cell_type": "markdown",
   "metadata": {
    "pycharm": {
     "metadata": false,
     "name": "#%% md\n"
    }
   },
   "source": [
    "### 解說\n",
    "這裡先算出各權重參數的元素差絕對值，在計算出平均值當作誤差。<br><br>\n",
    "\n",
    "由結果可知，數值微分與反向傳播誤差法計算而得的梯度誤差非常小。\n"
   ]
  },
  {
   "cell_type": "markdown",
   "metadata": {
    "pycharm": {
     "metadata": false,
     "name": "#%% md\n"
    }
   },
   "source": [
    "### 5.6.4 使用誤差反向傳播法學習\n",
    "最後，我們實際用反像誤差進行神經網路的學習。\n"
   ]
  },
  {
   "cell_type": "code",
   "execution_count": 10,
   "metadata": {
    "pycharm": {
     "is_executing": false,
     "metadata": false,
     "name": "#%%\n"
    }
   },
   "outputs": [
    {
     "name": "stdout",
     "output_type": "stream",
     "text": [
      "0.11738333333333334 0.1225\n",
      "0.5079833333333333 0.5131\n",
      "0.5680666666666667 0.567\n",
      "0.6948166666666666 0.699\n",
      "0.7880166666666667 0.7922\n",
      "0.8204 0.8262\n",
      "0.8428833333333333 0.8484\n",
      "0.8579166666666667 0.8618\n",
      "0.8691833333333333 0.8747\n",
      "0.8747666666666667 0.8796\n",
      "0.88105 0.8857\n",
      "0.8856 0.8884\n",
      "0.8881166666666667 0.8916\n",
      "0.8912666666666667 0.8948\n",
      "0.8942666666666667 0.8974\n",
      "0.8968666666666667 0.8993\n",
      "0.8994 0.9017\n",
      "0.90105 0.9036\n",
      "0.9023333333333333 0.905\n",
      "0.9035833333333333 0.9068\n",
      "0.9051166666666667 0.9071\n",
      "0.9064 0.9076\n",
      "0.9084666666666666 0.9096\n",
      "0.90975 0.9111\n",
      "0.91015 0.9126\n",
      "0.9115833333333333 0.9138\n",
      "0.9123 0.9129\n",
      "0.9133333333333333 0.9148\n",
      "0.9145833333333333 0.9167\n",
      "0.9154 0.9174\n",
      "0.9166 0.9179\n",
      "0.9173 0.9182\n",
      "0.9177333333333333 0.9196\n",
      "0.9188166666666666 0.9203\n",
      "0.9189666666666667 0.921\n",
      "0.92015 0.9229\n",
      "0.9214333333333333 0.923\n",
      "0.9222 0.923\n",
      "0.9222833333333333 0.9253\n",
      "0.9231833333333334 0.9253\n",
      "0.9241 0.9259\n",
      "0.9252333333333334 0.927\n",
      "0.9254666666666667 0.9274\n",
      "0.9262166666666667 0.9283\n",
      "0.92675 0.9291\n",
      "0.9279666666666667 0.9292\n",
      "0.92825 0.9289\n",
      "0.92885 0.93\n",
      "0.9292166666666667 0.9308\n",
      "0.9300666666666667 0.9311\n",
      "0.9304666666666667 0.9313\n",
      "0.9315 0.9313\n",
      "0.9319166666666666 0.9327\n",
      "0.9327166666666666 0.9327\n",
      "0.93345 0.9336\n",
      "0.9338 0.9334\n",
      "0.9349666666666666 0.9342\n",
      "0.9356666666666666 0.9352\n",
      "0.9356333333333333 0.9349\n",
      "0.93645 0.9351\n",
      "0.93695 0.9367\n",
      "0.9374666666666667 0.9358\n",
      "0.9387666666666666 0.9368\n",
      "0.93845 0.9379\n",
      "0.93935 0.9382\n",
      "0.9397666666666666 0.9383\n",
      "0.9406 0.938\n",
      "0.94075 0.9388\n",
      "0.9411666666666667 0.9383\n",
      "0.9417 0.9389\n",
      "0.9416 0.9395\n",
      "0.9423 0.9399\n",
      "0.9428666666666666 0.9404\n",
      "0.9432333333333334 0.9411\n",
      "0.94355 0.9418\n",
      "0.9442 0.9419\n",
      "0.9447333333333333 0.9422\n",
      "0.94525 0.9439\n",
      "0.9452 0.9437\n",
      "0.9455 0.9438\n",
      "0.9460166666666666 0.9439\n",
      "0.9464333333333333 0.9448\n",
      "0.9468666666666666 0.9449\n",
      "0.9469166666666666 0.9454\n",
      "0.9475333333333333 0.9448\n",
      "0.9477666666666666 0.9455\n",
      "0.9479666666666666 0.9463\n",
      "0.9483 0.946\n",
      "0.9486 0.947\n",
      "0.9489833333333333 0.9471\n",
      "0.9491833333333334 0.9465\n",
      "0.9492333333333334 0.9469\n",
      "0.94965 0.947\n",
      "0.94975 0.9479\n",
      "0.95005 0.9482\n",
      "0.9505666666666667 0.948\n",
      "0.9506333333333333 0.9482\n",
      "0.9512 0.9491\n",
      "0.9515333333333333 0.9493\n",
      "0.9517 0.9493\n",
      "0.9521 0.9489\n",
      "0.9520333333333333 0.9503\n",
      "0.9523166666666667 0.9494\n",
      "0.9527333333333333 0.9505\n",
      "0.9530833333333333 0.9512\n",
      "0.9530666666666666 0.9507\n",
      "0.9535666666666667 0.9519\n",
      "0.9538666666666666 0.9515\n",
      "0.9539833333333333 0.9514\n",
      "0.9540166666666666 0.9517\n",
      "0.95455 0.9518\n",
      "0.9545333333333333 0.9519\n",
      "0.9550166666666666 0.9521\n",
      "0.9551833333333334 0.952\n",
      "0.9550666666666666 0.9525\n",
      "0.9554 0.9526\n",
      "0.9562166666666667 0.9527\n",
      "0.9558333333333333 0.9533\n",
      "0.95605 0.9528\n",
      "0.9564666666666667 0.9535\n",
      "0.95685 0.9535\n",
      "0.9568333333333333 0.9538\n",
      "0.9570666666666666 0.9541\n",
      "0.9575833333333333 0.9541\n",
      "0.9574666666666667 0.9541\n",
      "0.9579666666666666 0.9542\n",
      "0.958 0.9541\n",
      "0.95855 0.9543\n",
      "0.9584333333333334 0.9549\n",
      "0.9582666666666667 0.9555\n",
      "0.9586666666666667 0.9558\n",
      "0.9587166666666667 0.955\n",
      "0.9590833333333333 0.9547\n",
      "0.95955 0.9549\n",
      "0.9595833333333333 0.9549\n",
      "0.9598166666666667 0.9555\n",
      "0.9598833333333333 0.9559\n",
      "0.9599166666666666 0.9556\n",
      "0.96065 0.9567\n",
      "0.96065 0.9558\n",
      "0.9607333333333333 0.9561\n",
      "0.9612333333333334 0.9559\n",
      "0.9612833333333334 0.957\n",
      "0.9616 0.9566\n",
      "0.9615666666666667 0.9573\n",
      "0.96145 0.9574\n",
      "0.9617333333333333 0.9574\n",
      "0.9623666666666667 0.9577\n",
      "0.96205 0.9579\n",
      "0.9622666666666667 0.9579\n",
      "0.9626166666666667 0.9581\n",
      "0.9624666666666667 0.9586\n",
      "0.9630166666666666 0.9581\n",
      "0.9629166666666666 0.9591\n",
      "0.9631166666666666 0.9588\n",
      "0.96325 0.9593\n",
      "0.9636166666666667 0.9595\n",
      "0.9639166666666666 0.9592\n",
      "0.9637166666666667 0.9594\n",
      "0.96395 0.9595\n",
      "0.9641 0.9597\n",
      "0.96415 0.9606\n",
      "0.9645333333333334 0.9606\n",
      "0.96445 0.9602\n",
      "0.9645 0.96\n",
      "0.96525 0.9605\n",
      "0.9649666666666666 0.9598\n",
      "0.9651333333333333 0.9598\n",
      "0.9653 0.9608\n",
      "0.9654666666666667 0.9604\n",
      "0.96585 0.9609\n",
      "0.96535 0.9605\n",
      "0.9658833333333333 0.9612\n",
      "0.9660666666666666 0.9615\n",
      "0.96595 0.9612\n",
      "0.9662 0.9612\n",
      "0.96615 0.9614\n",
      "0.9663 0.9609\n",
      "0.9664 0.9613\n",
      "0.9666833333333333 0.9616\n",
      "0.9665166666666667 0.9617\n",
      "0.9670166666666666 0.962\n",
      "0.96705 0.9629\n",
      "0.9670333333333333 0.9632\n",
      "0.9672833333333334 0.9628\n",
      "0.9675833333333334 0.9626\n",
      "0.9673666666666667 0.9631\n",
      "0.9675333333333334 0.9636\n",
      "0.9677333333333333 0.9629\n",
      "0.9677333333333333 0.9635\n",
      "0.9682333333333333 0.9637\n",
      "0.9683333333333334 0.9634\n",
      "0.9683166666666667 0.964\n",
      "0.9683166666666667 0.9634\n",
      "0.9685666666666667 0.964\n",
      "0.96865 0.9641\n",
      "0.9686166666666667 0.9647\n",
      "0.9687333333333333 0.9646\n",
      "0.9688666666666667 0.9642\n",
      "0.96885 0.964\n",
      "0.96925 0.9645\n",
      "0.9694333333333334 0.9647\n",
      "0.9695333333333334 0.9652\n",
      "0.9696833333333333 0.965\n",
      "0.9700166666666666 0.9655\n",
      "0.9701833333333333 0.9647\n",
      "0.9700833333333333 0.9653\n",
      "0.9701833333333333 0.9651\n",
      "0.9702 0.9656\n",
      "0.9703666666666667 0.9652\n",
      "0.9707666666666667 0.9651\n",
      "0.9705166666666667 0.965\n",
      "0.9709833333333333 0.9646\n",
      "0.971 0.9651\n",
      "0.971 0.9662\n",
      "0.9711 0.9662\n",
      "0.9714666666666667 0.9662\n",
      "0.9716333333333333 0.9662\n",
      "0.9713166666666667 0.9657\n",
      "0.9715666666666667 0.966\n",
      "0.9717 0.9665\n",
      "0.9719666666666666 0.9666\n",
      "0.9722 0.9666\n",
      "0.9720833333333333 0.9664\n",
      "0.9721666666666666 0.9668\n",
      "0.9723333333333334 0.9666\n",
      "0.9726166666666667 0.9671\n",
      "0.9725333333333334 0.9667\n",
      "0.97255 0.9659\n",
      "0.97285 0.9669\n",
      "0.9730333333333333 0.9664\n",
      "0.9730666666666666 0.9667\n",
      "0.9732 0.9668\n",
      "0.9735833333333334 0.9663\n",
      "0.97335 0.967\n",
      "0.97325 0.967\n",
      "0.9730666666666666 0.9668\n",
      "0.97365 0.9667\n",
      "0.9736333333333334 0.9669\n",
      "0.9738166666666667 0.9667\n",
      "0.97385 0.9675\n",
      "0.9738666666666667 0.9671\n",
      "0.97415 0.9674\n",
      "0.97435 0.9671\n",
      "0.9744666666666667 0.9678\n",
      "0.9744166666666667 0.967\n",
      "0.9746 0.9678\n",
      "0.9745166666666667 0.9671\n",
      "0.9744666666666667 0.9669\n",
      "0.9745333333333334 0.9673\n",
      "0.9748166666666667 0.9679\n",
      "0.9749333333333333 0.9671\n",
      "0.9752833333333333 0.9672\n",
      "0.9749666666666666 0.9673\n",
      "0.9751333333333333 0.9682\n",
      "0.9751666666666666 0.9681\n",
      "0.9751333333333333 0.968\n",
      "0.9754666666666667 0.9676\n",
      "0.9754 0.9678\n",
      "0.97535 0.9677\n",
      "0.9758333333333333 0.9684\n",
      "0.9756666666666667 0.968\n",
      "0.9757833333333333 0.9681\n",
      "0.97605 0.9678\n",
      "0.9757166666666667 0.9681\n",
      "0.97575 0.9678\n",
      "0.9763 0.9678\n",
      "0.97625 0.9679\n",
      "0.97635 0.9676\n",
      "0.9763666666666667 0.968\n",
      "0.9763166666666667 0.9677\n",
      "0.97645 0.9683\n",
      "0.9767 0.9685\n",
      "0.9765166666666667 0.9678\n",
      "0.9767333333333333 0.9686\n",
      "0.9768333333333333 0.9681\n",
      "0.9767333333333333 0.9679\n",
      "0.9767 0.9689\n",
      "0.9769833333333333 0.9683\n",
      "0.9770333333333333 0.9688\n",
      "0.97695 0.9686\n",
      "0.9769666666666666 0.9686\n",
      "0.9771 0.9685\n",
      "0.9771166666666666 0.968\n",
      "0.9774333333333334 0.9687\n",
      "0.9776 0.9685\n",
      "0.9773 0.9683\n",
      "0.9776833333333333 0.9684\n",
      "0.9773 0.9685\n",
      "0.9775166666666667 0.9685\n",
      "0.9775666666666667 0.9687\n",
      "0.97755 0.9692\n",
      "0.9776333333333334 0.9692\n",
      "0.9776833333333333 0.9695\n",
      "0.97765 0.9688\n",
      "0.9779666666666667 0.9686\n",
      "0.9776833333333333 0.9695\n",
      "0.9779833333333333 0.9692\n",
      "0.97795 0.969\n",
      "0.9779833333333333 0.9696\n",
      "0.9783833333333334 0.969\n",
      "0.9782 0.9689\n",
      "0.9782333333333333 0.969\n",
      "0.9780833333333333 0.9694\n",
      "0.97835 0.9697\n",
      "0.9784 0.9701\n",
      "0.9782166666666666 0.9693\n",
      "0.9784333333333334 0.9692\n",
      "0.97825 0.9693\n",
      "0.9784166666666667 0.9692\n",
      "0.9786333333333334 0.9693\n",
      "0.97845 0.9693\n",
      "0.9789166666666667 0.9691\n",
      "0.9788666666666667 0.9693\n",
      "0.9791666666666666 0.9701\n",
      "0.9788666666666667 0.9697\n",
      "0.9790166666666666 0.9703\n",
      "0.9793 0.9699\n",
      "0.9794 0.9692\n",
      "0.9793166666666666 0.9699\n",
      "0.9793666666666667 0.9705\n",
      "0.9795333333333334 0.9701\n",
      "0.97975 0.9704\n",
      "0.9798166666666667 0.9702\n",
      "0.9798166666666667 0.9704\n",
      "0.97985 0.9703\n",
      "0.9797 0.9702\n",
      "0.9797833333333333 0.9703\n",
      "0.9799833333333333 0.9703\n",
      "0.9800333333333333 0.97\n",
      "0.9801833333333333 0.9702\n",
      "0.9803 0.9705\n",
      "0.9801666666666666 0.9703\n",
      "0.9802333333333333 0.9701\n"
     ]
    }
   ],
   "source": [
    "import sys, os\n",
    "sys.path.append(os.pardir)\n",
    "\n",
    "import numpy as np\n",
    "from dl_ex.dataset.mnist import load_mnist\n",
    "from dl_ex.ch05.two_layer_net  import TwoLayerNet\n",
    "\n",
    "# 載入數據\n",
    "(x_train, t_train), (x_test, t_test) = load_mnist(normalize=True, one_hot_label=True)\n",
    "\n",
    "network = TwoLayerNet(input_size=784, hidden_size=50, output_size=10)\n",
    "\n",
    "iters_num = 20000\n",
    "train_size = x_train.shape[0]\n",
    "batch_size = 1000\n",
    "learning_rate = 0.05\n",
    "\n",
    "train_loss_list = []\n",
    "train_acc_list = []\n",
    "test_acc_list = []\n",
    "\n",
    "iter_per_epoch = max(train_size / batch_size, 1)\n",
    "\n",
    "for i in range(iters_num):\n",
    "    batch_mask = np.random.choice(train_size, batch_size)\n",
    "    x_batch = x_train[batch_mask]\n",
    "    t_batch = t_train[batch_mask]\n",
    "    \n",
    "    # 利用誤差反向傳播法計算梯度\n",
    "    #grad = network.numerical_gradient(x_batch, t_batch)\n",
    "    grad = network.gradient(x_batch, t_batch)\n",
    "    \n",
    "    # 更新\n",
    "    for key in ('W1', 'b1', 'W2', 'b2'):\n",
    "        network.params[key] -= learning_rate * grad[key]\n",
    "    \n",
    "    loss = network.loss(x_batch, t_batch)\n",
    "    train_loss_list.append(loss)\n",
    "    \n",
    "    if i % iter_per_epoch == 0:\n",
    "        train_acc = network.accuracy(x_train, t_train)\n",
    "        test_acc = network.accuracy(x_test, t_test)\n",
    "        train_acc_list.append(train_acc)\n",
    "        test_acc_list.append(test_acc)\n",
    "        print(train_acc, test_acc)\n"
   ]
  },
  {
   "cell_type": "markdown",
   "metadata": {
    "pycharm": {
     "metadata": false,
     "name": "#%% md\n"
    }
   },
   "source": [
    "## 5.7 重點整理\n",
    "本章學習使用了視覺化方式顯示計算過程的計算圖。使用計算圖，說明神經網路執行的誤差反向傳播法，還有以層為單位，在神經網路進行處理。例如，ReLU層、Softmax-with-Loss層、Affine層、Softmax層等。在各層中執行forward與backward等方法，正向或反向傳播資料，可以快速計算出權重參數的梯度。利用「層」進行模組化。可以在神經網路中，隨意組合各層，輕鬆製作出想要的網路。<br><br>\n",
    "\n",
    "* 使用計算圖，可以用視覺化方式掌握計算過程。\n",
    "* 計算圖的節點是由局部性計算所構成，其能構成整個計算。\n",
    "* 計算圖的正向傳播是進行一般計算。利用計算圖的反向傳播，可以計算出各節點的微分。\n",
    "* 把神經網路的構成元素當作「層」來執行處理，可以快速計算出梯度(  亦即誤差反向傳播法 )。\n",
    "* 比較數值微分與誤差反向傳播法，可以確認誤差反向傳播法的執行過程有沒有錯誤 ( 梯度檢查 )。\n"
   ]
  }
 ],
 "metadata": {
  "kernelspec": {
   "display_name": "Python 3",
   "language": "python",
   "name": "python3"
  },
  "language_info": {
   "codemirror_mode": {
    "name": "ipython",
    "version": 3
   },
   "file_extension": ".py",
   "mimetype": "text/x-python",
   "name": "python",
   "nbconvert_exporter": "python",
   "pygments_lexer": "ipython3",
   "version": "3.6.8"
  },
  "stem_cell": {
   "cell_type": "raw",
   "metadata": {
    "pycharm": {
     "metadata": false
    }
   },
   "source": ""
  }
 },
 "nbformat": 4,
 "nbformat_minor": 1
}
