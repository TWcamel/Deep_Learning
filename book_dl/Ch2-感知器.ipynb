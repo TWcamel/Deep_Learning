{
  "cells": [
    {
      "cell_type": "markdown",
      "source": "# Ch2.感知器\n這一章節討論 *__感知器__* 演算法，感知器是美國研究人員Rosenblatt 在 1957年代所提出的演算法。\u003cbr\u003e\n感知器可以說是造就 神經網路 的演算法。因此，學習感知器架構，等於在學習神經網路或是DL概念。\u003cbr\u003e\u003cbr\u003e\n\n## 2.1何謂感知器?\n「感知器」與「人工神經元」、「單純感知器」所處理的內容皆為相同；收到多個輸入訊號後，只輸出一項訊號。\u003cbr\u003e\n![Preceptron](./img/preceptron.png)\u003cbr\u003e\n感知器擁有各輸入訊號的原有權重，而在該權重是控制各訊號重要性的元素\u003cbr\u003e\n換句話說，當權重越重，對應該權重的訊號重要性越高。\n\n## 2.2執行感知器  \n### 簡單執行\n接下來，我們要利用python來執行上面說明的邏輯電路。\n\n",
      "metadata": {
        "pycharm": {
          "metadata": false
        }
      }
    },
    {
      "cell_type": "code",
      "execution_count": 2,
      "outputs": [
        {
          "name": "stdout",
          "text": [
            "0\n0\n0\n1\n"
          ],
          "output_type": "stream"
        }
      ],
      "source": "# 以下是定義取得引數x1與x2的AND函數\ndef AND(x1, x2):\n    w1, w2, theta \u003d 0.5, 0.5, 0.7\n    tmp \u003d x1*w1 + x2*w2\n    if tmp \u003c\u003d theta:\n        return 0\n    else:\n        return 1\n# 參數w1, w2, theta在函數內初始化\n# 含權重的總和超過臨界值( theta )時，回傳1\n# 否則回傳0\nprint(AND(0 ,0)) #0\nprint(AND(0, 1)) #0\nprint(AND(1,0)) #0\nprint(AND(1,1)) #1\n\n",
      "metadata": {
        "pycharm": {
          "metadata": false,
          "name": "#%%\n",
          "is_executing": false
        }
      }
    },
    {
      "cell_type": "markdown",
      "source": "## 2.3導入權重與偏權值\n先前AND閘的執行過程簡單明瞭，現在我們修改成其他的執行程式\u003cbr\u003e\n這次，我們將原來的 theta 更換為 bias ( 偏權值 )，w1, w2稱為權重\u003cbr\u003e\n實現概念如下。\n",
      "metadata": {
        "pycharm": {
          "metadata": false
        }
      }
    },
    {
      "cell_type": "code",
      "execution_count": 5,
      "outputs": [
        {
          "name": "stdout",
          "text": [
            "[0.  0.5]\n0.5\n-0.19999999999999996\n"
          ],
          "output_type": "stream"
        }
      ],
      "source": "import numpy as np\nx \u003d np.array([0, 1]) # 輸入變數\nw \u003d np.array([0.5, 0.5]) #權重\nb \u003d -0.7 #偏權值\nprint(w*x)\nprint(np.sum(w*x))\nprint(np.sum(w*x) + b) #約為-0.2 (浮點運算所造成的誤差)\n",
      "metadata": {
        "pycharm": {
          "metadata": false,
          "name": "#%%\n",
          "is_executing": false
        }
      }
    },
    {
      "cell_type": "markdown",
      "source": "## 2.4利用權重與偏權值執行AND閘\n使用「權重與偏權值的方式」可以和以前一樣，執行AND閘。\u003cbr\u003e\n要注意的是，我們將 theta 代換成 bias，其目的在於調整「發火的難度」\u003cbr\u003e\n",
      "metadata": {
        "pycharm": {
          "metadata": false
        }
      }
    },
    {
      "cell_type": "code",
      "execution_count": 8,
      "outputs": [],
      "source": "#AND閘\ndef AND(x1, x2):\n    x \u003d np.array([x1, x2])\n    w \u003d np.array([0.5, 0.5])\n    b \u003d - 0.7\n    tmp \u003d np.sum(w*x) + b\n    if tmp \u003c\u003d 0:\n        return 0\n    else:\n        return 1\n#NAND閘\ndef NAND(x1, x2):\n    x \u003d np.array([x1, x2])\n    w \u003d np.array([-0.5, -0.5]) #只有權重與偏權值與AND閘不同!\n    b \u003d 0.7\n    tmp \u003d np.sum(w*x) + b\n    if tmp \u003c\u003d 0:\n        return 0\n    else:\n        return 1\n#OR閘\ndef OR(x1, x2):\n    x \u003d np.array([x1, x2])\n    w \u003d np.array([0.5, 0.5]) #只有權重與偏權值與AND閘不同!\n    b \u003d - 0.2\n    tmp \u003d np.sum(w*x) + b\n    if tmp \u003c\u003d 0:\n        return 0\n    else:\n        return 1\n",
      "metadata": {
        "pycharm": {
          "metadata": false,
          "name": "#%%\n",
          "is_executing": false
        }
      }
    },
    {
      "cell_type": "markdown",
      "source": "## 感知器的極限\n到目前為止，我們討論了AND、NAND及OR閘，接下來，我們繼續說明XOR閘(x1, x2相同則輸出為0)。\u003cbr\u003e\n很遺憾的是，目前為止看到的感知器，無法執行XOR閘，原因在於無法找到一個臨界值(一條直線)，使得輸出分為兩類。\u003cbr\u003e\n好消息是，若我們不考慮線性(直線)，而是考慮以非線性(曲線)使輸出分為兩類，我們就可以實現XOR閘 !\n",
      "metadata": {
        "pycharm": {
          "metadata": false
        }
      }
    },
    {
      "cell_type": "markdown",
      "source": "## 2.5多層感知器\n我們現在知道了感知器無法表現XOR閘。但這並非壞消息!\u003cbr\u003e\n事實上，感知器的優點在於，可以「層疊」，「層疊」的概念會於後方作介紹。\n### 2.5.1組合現有的閘道\n既然不能以單個感知器來製作XOR閘，何不以組合的方式來實現呢?\u003cbr\u003e\n![MLP-1](./img/ch2-MLP.PNG)\u003cbr\u003e\n上圖?處該填入甚麼呢? 請動腦想一想\u003cbr\u003e\u003cbr\u003e\n![MLP-1](./img/Ch2-MLP-2.PNG)\u003cbr\u003e\n\n## 2.5.2 執行XOR\n有了上面的圖做輔助，我們就可以輕易地執行XOR了!\n",
      "metadata": {
        "pycharm": {
          "metadata": false
        }
      }
    },
    {
      "cell_type": "code",
      "execution_count": 12,
      "outputs": [
        {
          "name": "stdout",
          "text": [
            "0\n1\n1\n0\n"
          ],
          "output_type": "stream"
        }
      ],
      "source": "def XOR(x1, x2):\n    s1 \u003d NAND(x1, x2)\n    s2 \u003d OR(x1, x2)\n    y \u003d AND(s1, s2)\n    return y\n\nprint(XOR(0, 0)) #0\nprint(XOR(0, 1)) #1\nprint(XOR(1, 0)) #1\nprint(XOR(1, 1)) #0\n\n# 此例中，XOR是多(雙)層感知器(MLP)，而OR、NAND、AND都屬於單層感知器\n",
      "metadata": {
        "pycharm": {
          "metadata": false,
          "name": "#%%\n",
          "is_executing": false
        }
      }
    },
    {
      "cell_type": "markdown",
      "source": "## 2.6 反及閘(XOR)的類比\n上例，好比是利用生產線來進行組裝，MLP的運作過程可以類比成作業員間的「傳送物品」動作。\u003cbr\u003e\n建立這種結構(雙層結構)，感知器就能執行XOR。這裡可以解釋成「單層感知器無法表現的部分，只要加一層，就可以達成」。\u003cbr\u003e\n也就是利用層疊的方式(加深層數)，可以讓運用變得更靈活。\n",
      "metadata": {
        "pycharm": {
          "metadata": false
        }
      }
    },
    {
      "cell_type": "markdown",
      "source": "## 2.7 重點整理\n* 感知器是具有輸出入的演算法。給予輸入後，就會輸出一定的值。\n* 感知器可以將「權重」與「偏權值」當作參數來設定\n* 使用感知器，可以表現OR閘或是AND閘等邏輯電路\n* XOR閘無法以單層感知器來表現\n* 使用雙層感知器，可以實現XOR閘\n* 相對於單層感知器只能表現線性區域，MLP可以表現非線性區域\n* MLP 可以組裝出一台電腦",
      "metadata": {
        "pycharm": {
          "metadata": false
        }
      }
    }
  ],
  "metadata": {
    "language_info": {
      "codemirror_mode": {
        "name": "ipython",
        "version": 2
      },
      "file_extension": ".py",
      "mimetype": "text/x-python",
      "name": "python",
      "nbconvert_exporter": "python",
      "pygments_lexer": "ipython2",
      "version": "2.7.6"
    },
    "kernelspec": {
      "name": "python3",
      "language": "python",
      "display_name": "Python 3"
    },
    "stem_cell": {
      "cell_type": "raw",
      "source": "",
      "metadata": {
        "pycharm": {
          "metadata": false
        }
      }
    }
  },
  "nbformat": 4,
  "nbformat_minor": 0
}