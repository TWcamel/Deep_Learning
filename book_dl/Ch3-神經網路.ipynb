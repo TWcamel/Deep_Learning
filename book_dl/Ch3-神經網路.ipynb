{
 "cells": [
  {
   "cell_type": "markdown",
   "metadata": {
    "pycharm": {
     "metadata": false
    }
   },
   "source": [
    "# CH3-神經網路\n",
    "我們有好消息與壞消息，好消息是我們能夠透過感知器製作出一台電腦。<br>\n",
    "壞消息是，設定權重的工作，亦即決定符合期待的輸入與輸出之適當權重，現在仍然以人工方式來進行<br>\n"
   ]
  },
  {
   "cell_type": "markdown",
   "metadata": {
    "pycharm": {
     "metadata": false
    }
   },
   "source": [
    "## 3.1. 從感知器到神經網路\n",
    "此小節將以感知器的相異點為主，解說神經網路結構。\n"
   ]
  },
  {
   "cell_type": "markdown",
   "metadata": {
    "pycharm": {
     "metadata": false
    }
   },
   "source": [
    "### 3.1.1 神經網路與感知器\n",
    "還記得前幾章的感知器發火公式嗎?<br>\n",
    "<br>$\n",
    "y=\\begin{cases}\n",
    "0,\\quad (b + w1x1 + w2x2 \\leq 0) \\\\\\\\\n",
    "1,\\quad  (b + w1x1 + w2x2 > 0) \n",
    "\\end{cases}\n",
    "$<br>\n",
    "\n",
    "接下來，我們想要將其轉換為更簡單的公式：\n",
    "<br>\n",
    "$\n",
    "y = h(b+w1x1+w2x2)\n",
    "$...................(3.2)\n",
    "\n",
    "<br>$\n",
    "h(x)=\\begin{cases}\n",
    "0,\\quad (x \\leq 0) \\\\\\\\\n",
    "1,\\quad  (x > 0) \n",
    "\\end{cases}\n",
    "$........................(3.3)<br>\n",
    "由上式 (3.2),(3.3) 我們可以看到$h(x)$函數，這種將輸入訊號轉換成輸出訊號的函數，一般稱為活化函數( activition function )。<br>\n",
    "接下來，我們繼續轉換上式( 3.2 )，此式進行了2階段的處理，包刮計算含權重的輸出訊號總和，以及利用活化函數轉換總和。<br>\n",
    "因此詳細寫出算式( 3.2 )，我們可以分成下列兩個算式。\n",
    "<br>\n",
    "$\n",
    "a = b+w1x1+w2x2\n",
    "$..........................(3.4)\n",
    "<br>\n",
    "$\n",
    "y = h(a)\n",
    "$........................................................(3.5)<br>\n",
    "處理過程是，在算式(3.4)中，計算含權重的輸入訊號與偏權值的總和，把這個部分當做a。<br>\n",
    "接著在算式(3.5)中，我們利用$h( )$轉換a，輸出成$y$。\n"
   ]
  },
  {
   "cell_type": "markdown",
   "metadata": {
    "pycharm": {
     "metadata": false
    }
   },
   "source": [
    "## 3.2 活化函數\n",
    "實際上，算式(3.3)顯示的活化函數是以臨界值為分界來轉換輸出的函數，因此稱為「階梯函數」。<br>\n",
    "不過我們能夠把活化函數中，感知器所採用的「階梯函數」改成其他的函數。\n",
    "\n",
    "### 3.2.1 sigmoid函數\n",
    "神經網路常用的活化函數之一，就是sigmoid函數：<br>\n",
    "$\n",
    "h(x)=\\frac{1}{1 + exp(-x)} .................(3.6)\n",
    "$<br>\n",
    "當然，常用的函數亦有ReLu、Tahn等函數。\n",
    "\n",
    "### 3.2.3 執行階梯函數\n",
    "我們以圖表方式來顯示階梯函數( 圖形化方式對於了解函數很有幫助 )。\n"
   ]
  },
  {
   "cell_type": "code",
   "execution_count": 2,
   "metadata": {
    "pycharm": {
     "is_executing": false,
     "metadata": false,
     "name": "#%%\n"
    }
   },
   "outputs": [],
   "source": [
    "def step_function(x):\n",
    "    if x > 0:\n",
    "        return 1\n",
    "    else:\n",
    "        return 0\n",
    "# 雖然這很容易理解，但這不能使用於np.array()中，所以我們擴充其方法\n",
    "def step_frunction(x):\n",
    "    y = x > 0\n",
    "    return y.astype(np.int)\n"
   ]
  },
  {
   "cell_type": "code",
   "execution_count": 7,
   "metadata": {
    "pycharm": {
     "is_executing": false,
     "metadata": false,
     "name": "#%%\n"
    }
   },
   "outputs": [
    {
     "name": "stdout",
     "output_type": "stream",
     "text": [
      "[-1  1  2]\n",
      "[False  True  True] bool\n"
     ]
    },
    {
     "data": {
      "text/plain": [
       "array([0, 1, 1])"
      ]
     },
     "execution_count": 7,
     "metadata": {},
     "output_type": "execute_result"
    }
   ],
   "source": [
    "# 我們來以直覺的方式理解一下上面做了甚麼更動\n",
    "import numpy as np\n",
    "x = np.array([-1, 1 ,2])\n",
    "print(x)\n",
    "y = x > 0\n",
    "print(y, y.dtype)\n",
    "y = y.astype(np.int)\n",
    "y\n"
   ]
  },
  {
   "cell_type": "code",
   "execution_count": 10,
   "metadata": {
    "pycharm": {
     "is_executing": false,
     "metadata": false,
     "name": "#%%\n"
    }
   },
   "outputs": [
    {
     "data": {
      "image/png": "[encoded data removed]",
      "text/plain": [
       "<Figure size 432x288 with 1 Axes>"
      ]
     },
     "metadata": {},
     "output_type": "display_data"
    }
   ],
   "source": [
    "import numpy as np\n",
    "import matplotlib.pyplot as plt\n",
    "def step_function(x):\n",
    "    return np.array(x >0, dtype=np.int)\n",
    "\n",
    "x = np.arange(-5, 5, .1)\n",
    "y = step_frunction(x)\n",
    "plt.plot(x, y)\n",
    "plt.ylim(-.1, 1.1) #設定y軸的範圍\n",
    "plt.show()\n",
    "\n",
    "# step_function( )是從Numpy陣列中，取出引數\n",
    "# 針對陣列的各個元素，執行階梯函數，並回傳陣列結果。\n"
   ]
  },
  {
   "cell_type": "markdown",
   "metadata": {
    "pycharm": {
     "metadata": false
    }
   },
   "source": [
    "### 3.2.4執行 sigmoid 函數\n",
    "接下來，我們來執行sigmoid函數。\n"
   ]
  },
  {
   "cell_type": "code",
   "execution_count": 2,
   "metadata": {
    "pycharm": {
     "is_executing": false,
     "metadata": false,
     "name": "#%%\n"
    }
   },
   "outputs": [],
   "source": [
    "def sigmoid(x):\n",
    "    return 1 / (1 + np.exp( -x ))\n"
   ]
  },
  {
   "cell_type": "code",
   "execution_count": 12,
   "metadata": {
    "pycharm": {
     "is_executing": false,
     "metadata": false,
     "name": "#%%\n"
    }
   },
   "outputs": [
    {
     "data": {
      "text/plain": [
       "array([0.26894142, 0.73105858, 0.88079708])"
      ]
     },
     "execution_count": 12,
     "metadata": {},
     "output_type": "execute_result"
    }
   ],
   "source": [
    "# 事實上，在sigmoid函數中，輸入numpy陣列後，會執行以下正確的計算。\n",
    "x = np.array([-1, 1, 2])\n",
    "sigmoid(x)\n"
   ]
  },
  {
   "cell_type": "code",
   "execution_count": 13,
   "metadata": {
    "pycharm": {
     "is_executing": false,
     "metadata": false,
     "name": "#%%\n"
    }
   },
   "outputs": [
    {
     "data": {
      "text/plain": [
       "[]"
      ]
     },
     "execution_count": 13,
     "metadata": {},
     "output_type": "execute_result"
    },
    {
     "data": {
      "image/png": "[encoded data removed]",
      "text/plain": [
       "<Figure size 432x288 with 1 Axes>"
      ]
     },
     "metadata": {},
     "output_type": "display_data"
    }
   ],
   "source": [
    "# 繪製sigmoid圖表\n",
    "import numpy as np\n",
    "import matplotlib.pyplot as plt\n",
    "x = np.arange(-5, 5, .1)\n",
    "y = sigmoid(x)\n",
    "plt.plot(x, y)\n",
    "plt.ylim(-.1, 1.1) #設定y軸範圍\n",
    "plt.plot()\n"
   ]
  },
  {
   "cell_type": "markdown",
   "metadata": {
    "pycharm": {
     "metadata": false
    }
   },
   "source": [
    "## 3.2.5 非線性函數\n",
    "階梯函數與sigmoid函數皆為非線性函數。而神經網路的活化函數必須使用非線性函數，為何? 如果使用了線性函數，那麼增加神經網路的層數就變得毫無意義了。<br>\n",
    "線性函數的問題起因於，不論增加多少層，都一定存在著執行相同內容的「無隱藏層網路」。<br>\n",
    "例如：設一線性函數$h(x)=cx$，執行$y(x) = h(h(h(x)))$的運算，對應的是$y(x)=c \\times c \\times c \\times x $的乘法運算。卻同樣是$y(x) = ax (a=c^3)$乘法，因此可以用無隱藏層的網路來表示。\n",
    "\n",
    " "
   ]
  },
  {
   "cell_type": "markdown",
   "metadata": {
    "pycharm": {
     "metadata": false
    }
   },
   "source": [
    "## 3.2.6 執行三層神經網路\n",
    "我們先來看神經網路中，輸入層→隱藏層→輸出層，訊息的傳遞過程。<br>\n",
    "![nns](./img/nn.PNG)<br>\n",
    "輸入→隱藏層<br>\n",
    "![nns1](./img/nn1.PNG)<br>\n",
    "隱藏層→輸出層<br>\n",
    "如圖所示，輸出層使用的活化函數必須配合解決問題的性質而定。<br>\n",
    "例如，回歸問題一般使用恆等函數(輸出=輸入)，2類問題使用sigmoid函數，多類別使用softmax函數。\n",
    "\n"
   ]
  },
  {
   "cell_type": "markdown",
   "metadata": {
    "pycharm": {
     "metadata": false
    }
   },
   "source": [
    "## 3.2.7 統一執行處理\n",
    "到此我們已經介紹三層神經網路，現在我們來實現他。<br>\n",
    "我們先定義init_network() 與 forward()等函數，利用init_network()進行權重與偏權重值的初始化，並儲存於字典型態的變數network中，network中必須儲存各層輸出的流程。<br>\n",
    "到這裡我們就先定義好了前向傳播流程了!!\n",
    "\n"
   ]
  },
  {
   "cell_type": "code",
   "execution_count": 5,
   "metadata": {
    "pycharm": {
     "is_executing": false,
     "metadata": false,
     "name": "#%%\n"
    }
   },
   "outputs": [
    {
     "name": "stdout",
     "output_type": "stream",
     "text": [
      "[0.39215613 0.63011011]\n"
     ]
    }
   ],
   "source": [
    "def identity_function(x): #輸入＝輸出\n",
    "    return x\n",
    "import numpy as np\n",
    "def init_network():\n",
    "    network = {}\n",
    "    network['W1'] = np.array([[0.1, .3, .5], [.2, .4, .6 ]])\n",
    "    network['b1'] = np.array([.1, .2, .3])\n",
    "    network['W2'] = np.array([[0.1, .4,], [.2, .5], [.2, .6 ]])\n",
    "    network['b2'] = np.array([.1, .2])\n",
    "    network['W3'] = np.array([[0.1, .3,], [.2, .4]])\n",
    "    network['b3'] = np.array([.1, .2])\n",
    "    \n",
    "    return network\n",
    "\n",
    "def forward (network, x):\n",
    "    W1, W2, W3 = network['W1'], network['W2'], network['W3']\n",
    "    b1, b2, b3 = network['b1'], network['b2'], network['b3']\n",
    "    \n",
    "    a1 = np.dot(x, W1) + b1\n",
    "    z1 = sigmoid(a1)\n",
    "    a2 = np.dot(z1, W2) + b2\n",
    "    z2 = sigmoid(a2)\n",
    "    a3 = np.dot(W3, z2) + b3\n",
    "    y = identity_function(a3)\n",
    "    \n",
    "    return y\n",
    "    \n",
    "network = init_network()\n",
    "x = np.array([1, 0.5])\n",
    "y = forward(network, x)\n",
    "print(y)\n"
   ]
  },
  {
   "cell_type": "markdown",
   "metadata": {
    "pycharm": {
     "metadata": false
    }
   },
   "source": [
    "## 恆等函數與softmax函數\n",
    "恆等函數是將輸入直接當作輸出的函數。然而，分類問題所使用的softmax函數，是用以下算是表示。<br>\n",
    "$\n",
    "y_k =  \\frac {exp(a_k)}{\\sum_{i=1}^{n}{exp(a_i)}}\n",
    "$<br>\n",
    "其中，$e^x$為指數函數(納皮爾常數)。<br>\n",
    "要注意的是，在執行softmax時可能會出現溢位。所以我們要將softmax加以改良：\n",
    "$\n",
    "\\begin{align}\n",
    "y_k &= \\frac {exp(a_k)}{\\sum_{i=1}^{n}{exp(a_i)}}  \\\\\n",
    "    &= \\frac {C exp(a_k)}{C \\sum_{i=1}^{n}{exp(a_i)}}  \\\\\n",
    "    &= \\frac {exp(a_k + logC)}{\\sum_{i=1}^{n}{exp(a_i + logC)}}  \\\\\n",
    "    &= \\frac {exp(a_k + C^-)}{\\sum_{i=1}^{n}{exp(a_i + C^-)}}  \\tag{3.1}\n",
    "\\end{align}\n",
    "$<br>\n",
    "\n",
    "算式(3.1)要說明的是，執行sofmax的指數函數運算時，加上(或減去)某個數(不論多大)，結果不變。這裡$C^-$可以是任何值。方便說明，我們舉個例：\n"
   ]
  },
  {
   "cell_type": "code",
   "execution_count": 8,
   "metadata": {
    "pycharm": {
     "is_executing": false,
     "metadata": false,
     "name": "#%%\n"
    }
   },
   "outputs": [
    {
     "name": "stdout",
     "output_type": "stream",
     "text": [
      "[  0 -10 -20]\n"
     ]
    },
    {
     "name": "stderr",
     "output_type": "stream",
     "text": [
      "C:\\Users\\Camel\\Anaconda3\\lib\\site-packages\\ipykernel_launcher.py:3: RuntimeWarning: overflow encountered in exp\n",
      "  This is separate from the ipykernel package so we can avoid doing imports until\n",
      "C:\\Users\\Camel\\Anaconda3\\lib\\site-packages\\ipykernel_launcher.py:3: RuntimeWarning: invalid value encountered in true_divide\n",
      "  This is separate from the ipykernel package so we can avoid doing imports until\n"
     ]
    },
    {
     "data": {
      "text/plain": [
       "array([9.99954600e-01, 4.53978686e-05, 2.06106005e-09])"
      ]
     },
     "execution_count": 8,
     "metadata": {},
     "output_type": "execute_result"
    }
   ],
   "source": [
    "import numpy as np\n",
    "a = np.array([1010, 1000, 990])\n",
    "np.exp(a) / np.sum(np.exp(a)) #無法計算(數字太大)\n",
    "c = np.max(a) #1010\n",
    "print(a-c)\n",
    "np.exp(a-c) / np.sum(np.exp(a-c))\n"
   ]
  },
  {
   "cell_type": "code",
   "execution_count": 10,
   "metadata": {
    "pycharm": {
     "is_executing": false,
     "metadata": false,
     "name": "#%%\n"
    }
   },
   "outputs": [
    {
     "name": "stdout",
     "output_type": "stream",
     "text": [
      "[9.99954600e-01 4.53978686e-05 2.06106005e-09]\n"
     ]
    }
   ],
   "source": [
    "# 如上述範例所示，在nan( not a number: 1不定數 )減去輸入訊號的最大值，無法正確計算，根據上述內容，執行softmax函數時會變成以下。\n",
    "def softmax (a):\n",
    "    c = np.max(a)\n",
    "    exp_a = np.exp(a-c) #防範溢位!\n",
    "    sum_exp_a = np.sum(exp_a)\n",
    "    y = exp_a / sum_exp_a\n",
    "    \n",
    "    return y\n",
    "print(softmax(a = np.array([1010, 1000, 990])))\n"
   ]
  },
  {
   "cell_type": "code",
   "execution_count": 11,
   "metadata": {
    "pycharm": {
     "is_executing": false,
     "metadata": false,
     "name": "#%%\n"
    }
   },
   "outputs": [
    {
     "name": "stdout",
     "output_type": "stream",
     "text": [
      "[0.01821127 0.24519181 0.73659691]\n"
     ]
    },
    {
     "data": {
      "text/plain": [
       "1.0"
      ]
     },
     "execution_count": 11,
     "metadata": {},
     "output_type": "execute_result"
    }
   ],
   "source": [
    "# 使用softmax()函數，我們可以利用以下方式做計算神經網路的輸出\n",
    "a = np.array([.3, 2.9, 4])\n",
    "y = softmax(a)\n",
    "print(y)\n",
    "np.sum(y)\n"
   ]
  },
  {
   "cell_type": "markdown",
   "metadata": {
    "pycharm": {
     "metadata": false
    }
   },
   "source": [
    "## 3.2.8 softmax函數的特色\n",
    "如上所示，softmax函數的輸出是0~1之間，此外，softmax()函數的輸出總和為1。<br><br>\n",
    "{note} 解決ML問題的步驟分成「學習」、推論兩階段。一開始利用學習階段來學習模型，接著在推論階段使用學習過的模型，對未知的資料進行推論( 分類 )。而推論階段一般會省略輸出層的softmax函數。在輸出層使用softmax函數的理由，與神經網路的學習有關(下一章說明)。\n"
   ]
  },
  {
   "cell_type": "markdown",
   "metadata": {
    "pycharm": {
     "metadata": false
    }
   },
   "source": [
    "# 3.3 辨識手寫數字\n",
    "學習過神經網路的結構後，我們來練習實際的問題。以下要分類手寫數字影像。假設已經完成學習，使用學習完的參數，執行神經網路的「推論處理」。另外，這種推論處理又稱作神經網路的「正向傳播」(forward propagation)。<br><br>\n",
    "{note} 和解決ML學習問題的步驟一樣(「學習」「推論」)使用神經網路解決問題時，一開始要使用訓練資料( 學習資料 )，進行權重參數學習；推論時，使用學習過的參數，將輸入資料進行分類。\n"
   ]
  },
  {
   "cell_type": "markdown",
   "metadata": {
    "pycharm": {
     "metadata": false
    }
   },
   "source": [
    "## 3.3.1 MNIST資料集\n",
    "MNIST的影像資料是28x28的灰階影像，我們用此資料庫做練習。<br>\n",
    "\n",
    "一開始我們先載入父目錄檔案的設定，接著載入 dataset/mnist.py 的 load_mnist 函數，再利用仔載入的 load_mnist 函數，讀取MNIST資料集。最初呼叫 load_mnist 函數時，需下載MNIST資料，所以必須接上網路。第二次以後則可以直接讀取本地檔案。\n"
   ]
  },
  {
   "cell_type": "code",
   "execution_count": 20,
   "metadata": {
    "pycharm": {
     "is_executing": false,
     "metadata": false,
     "name": "#%%\n"
    }
   },
   "outputs": [
    {
     "name": "stdout",
     "output_type": "stream",
     "text": [
      "Downloading train-images-idx3-ubyte.gz ... \n",
      "Done\n",
      "Downloading train-labels-idx1-ubyte.gz ... \n",
      "Done\n",
      "Downloading t10k-images-idx3-ubyte.gz ... \n",
      "Done\n",
      "Downloading t10k-labels-idx1-ubyte.gz ... \n",
      "Done\n",
      "Converting train-images-idx3-ubyte.gz to NumPy Array ...\n",
      "Done\n",
      "Converting train-labels-idx1-ubyte.gz to NumPy Array ...\n",
      "Done\n",
      "Converting t10k-images-idx3-ubyte.gz to NumPy Array ...\n",
      "Done\n",
      "Converting t10k-labels-idx1-ubyte.gz to NumPy Array ...\n",
      "Done\n",
      "Creating pickle file ...\n",
      "Done!\n",
      "(60000, 784)\n",
      "(60000,)\n",
      "(10000, 784)\n",
      "(10000,)\n"
     ]
    }
   ],
   "source": [
    "import sys, os\n",
    "sys.path.append(os.path.abspath('../dl_ex')) #載入父目錄檔案的設定\n",
    "from dataset.mnist import load_mnist\n",
    "\n",
    "# 開始呼叫\n",
    "(x_train, t_train), (x_test, t_test) = load_mnist(flatten = True, normalize = False)\n",
    "\n",
    "# 分別輸出資料的形狀\n",
    "print(x_train.shape) # (60000, 784)\n",
    "print(t_train.shape) #(60000, )\n",
    "print(x_test.shape)  #(10000, 784)\n",
    "print(t_test.shape)  #(10000, )\n"
   ]
  },
  {
   "cell_type": "code",
   "execution_count": 32,
   "metadata": {
    "pycharm": {
     "is_executing": false,
     "metadata": false,
     "name": "#%%\n"
    }
   },
   "outputs": [
    {
     "name": "stdout",
     "output_type": "stream",
     "text": [
      "4\n",
      "(784,)\n",
      "(28, 28)\n"
     ]
    }
   ],
   "source": [
    "# 接下來，我們來試著顯示MNIST圖像\n",
    "import sys, os\n",
    "sys.path.append(os.path.abspath('../dl_ex')) #載入父目錄檔案的設定\n",
    "from dataset.mnist import load_mnist\n",
    "import numpy as np\n",
    "from PIL import Image\n",
    "\n",
    "def img_show(img):\n",
    "    pil_img = Image.fromarray(np.uint8(img))\n",
    "    pil_img.show\n",
    "    \n",
    "(x_train, t_train), (x_test, t_test) = load_mnist(flatten=True, normalize=False)\n",
    "\n",
    "img = x_train[0]\n",
    "label = t_train[0]\n",
    "print(label)  # 5\n",
    "\n",
    "print(img.shape)  # (784,)\n",
    "img = img.reshape(28, 28)  # 將形狀便形成原本的影像大小!\n",
    "print(img.shape)  # (28, 28)\n",
    "\n",
    "img_show(img)\n"
   ]
  },
  {
   "cell_type": "markdown",
   "metadata": {
    "pycharm": {
     "metadata": false
    }
   },
   "source": [
    "## 3.3.2 神經網路的推論處理\n",
    "接下來，我們針對MNIST資料集進行推論處理，執行由784個輸入層神經元與10個輸出層神經元所構成的神經網路。<br><br>\n",
    "\n",
    "{note} Python中，有個叫做pickle的功能，可以把執行的程式物件，當作檔案暫存起來。載入暫存的pickle檔案，可以立刻恢復剛才程式執行的物件。\n"
   ]
  },
  {
   "cell_type": "code",
   "execution_count": 39,
   "metadata": {
    "pycharm": {
     "is_executing": false,
     "metadata": false,
     "name": "#%%\n"
    }
   },
   "outputs": [],
   "source": [
    "import sys, os\n",
    "sys.path.append(os.path.abspath('../dl_ex')) #載入父目錄檔案的設定\n",
    "import numpy as np\n",
    "import pickle\n",
    "from dataset.mnist import load_mnist\n",
    "from common.functions import sigmoid, softmax\n",
    "\n",
    "def get_data():\n",
    "    (x_train, t_train), (x_test, t_test) = load_mnist(flatten=True, normalize=True, one_hot_label=False)\n",
    "    return x_test, t_test\n",
    "\n",
    "def init_network():\n",
    "    with open(\"sample_weight.pkl\", 'rb') as f:\n",
    "        network = pickle.load(f)\n",
    "    return network   \n",
    "    \n",
    "def predict(network, x):\n",
    "    W1, W2, W3 = network['W1'], network['W2'], network['W3']\n",
    "    b1, b2, b3 = network['b1'], network['b2'], network['b3']\n",
    "\n",
    "    a1 = np.dot(x, W1) + b1\n",
    "    z1 = sigmoid(a1)\n",
    "    a2 = np.dot(z1, W2) + b2\n",
    "    z2 = sigmoid(a2)\n",
    "    a3 = np.dot(z2, W3) + b3\n",
    "    y = softmax(a3)\n",
    "\n",
    "    return y\n"
   ]
  },
  {
   "cell_type": "markdown",
   "metadata": {
    "pycharm": {
     "metadata": false
    }
   },
   "source": [
    "在init_network()中，載入暫存在pickle檔案samle_weight.pkl中，已經學習完畢的權重參數值為字典型態的變數。接下來我們要進行推論的過程了!\n"
   ]
  },
  {
   "cell_type": "code",
   "execution_count": 40,
   "metadata": {
    "pycharm": {
     "is_executing": false,
     "metadata": false,
     "name": "#%%\n"
    }
   },
   "outputs": [
    {
     "name": "stdout",
     "output_type": "stream",
     "text": [
      "Accuracy:0.9352\n"
     ]
    }
   ],
   "source": [
    "x ,t =get_data()\n",
    "network = init_network()\n",
    "\n",
    "accuracy_cnt = 0\n",
    "for i in range (len(x)):\n",
    "    y = predict(network, x[i])\n",
    "    p = np.argmax(y) #取得機率最高的元素索引值\n",
    "    if p == t[i]:\n",
    "        accuracy_cnt += 1\n",
    "print('Accuracy:' + str(float(accuracy_cnt) / len(x)))\n"
   ]
  },
  {
   "cell_type": "markdown",
   "metadata": {
    "pycharm": {
     "metadata": false
    }
   },
   "source": [
    "### 解說\n",
    "最初取得MNIST資料集產生網路。接著用for陳述式逐一取出儲存在x的影像資料，利用predict()函數分類。predict()是把輸出個標籤的機率輸出成Numpy陣列。<br>\n",
    "接著從最大機率清單中，取出最大值的索引值，亦即第i個算的機率最高，就把它當成預測結果。最後神經網路預測的答案與正確答案標籤比對，將正確答案的比例當作辨識準確度 ( arruracy )。\n"
   ]
  },
  {
   "cell_type": "markdown",
   "metadata": {
    "pycharm": {
     "metadata": false
    }
   },
   "source": [
    "## 3.3.3 批次處理\n",
    "處理MNIST資料集的神經網路如上所示。這次我們要觀察輸入資料與權重參數的「形狀」，因此再次檢視剛才的執行內容。\n"
   ]
  },
  {
   "cell_type": "code",
   "execution_count": 43,
   "metadata": {
    "pycharm": {
     "is_executing": false,
     "metadata": false,
     "name": "#%%\n"
    }
   },
   "outputs": [
    {
     "name": "stdout",
     "output_type": "stream",
     "text": [
      "(10000, 784)\n",
      "(784,)\n",
      "(784, 50)\n",
      "(50, 100)\n",
      "(100, 10)\n"
     ]
    }
   ],
   "source": [
    "x, _ = get_data()\n",
    "network = init_network()\n",
    "W1, W2, W3 = network['W1'], network['W2'], network['W3']\n",
    "print(x.shape)\n",
    "print(x[0].shape)\n",
    "print(W1.shape)\n",
    "print(W2.shape)\n",
    "print(W3.shape)\n"
   ]
  },
  {
   "cell_type": "markdown",
   "metadata": {
    "pycharm": {
     "metadata": false
    }
   },
   "source": [
    "所以我們可以知道$Y_{10} = X_{784} * W1_{784\\times50} * W2_{50\\times100} * W3_{100\\times10}$<br>\n",
    "注意最後$Y$被輸出成one_hot_vector，只有一維的陣列。 <br><br>\n",
    "\n",
    "接下來，我們要考慮以predict函數，一次處理100張影像。此時X維$X_{100\\times784}$，可以一次輸入100張影像，如下說明。<br>\n",
    "$X_{100\\times784} * W1_{784\\times50} * W2_{50\\times100} * W3_{100\\times10} = Y_{100\\time10}$<br>\n",
    "注意到輸入是為100x784，輸出則為100x10，這代表一次輸出100張輸入資料的結果。例如，在x[0]與y[0]儲存第0號影像以及推論結果，在x[1]與y[1]儲存第1號影像以及推論結果。<br><br>\n",
    "\n",
    "接下來，我們開始執行批次處理!\n"
   ]
  },
  {
   "cell_type": "code",
   "execution_count": 47,
   "metadata": {
    "pycharm": {
     "is_executing": false,
     "metadata": false,
     "name": "#%%\n"
    }
   },
   "outputs": [
    {
     "name": "stdout",
     "output_type": "stream",
     "text": [
      "Accuracy:0.9352\n"
     ]
    }
   ],
   "source": [
    "x ,t =get_data()\n",
    "network = init_network()\n",
    "\n",
    "batch_size = 300 #批次處理的影像數量\n",
    "accuracy_cnt = 0\n",
    "for i in range(0, len(x), batch_size):\n",
    "    x_batch = x[i:i+batch_size]\n",
    "    y_batch = predict(network, x_batch)\n",
    "    p = np.argmax(y_batch, axis=1) #取得機率最高的元素索引值\n",
    "    accuracy_cnt += np.sum(p == t[i:i+batch_size])\n",
    "print('Accuracy:' + str(float(accuracy_cnt) / len(x)))\n"
   ]
  },
  {
   "cell_type": "markdown",
   "metadata": {
    "pycharm": {
     "metadata": false
    }
   },
   "source": [
    "### 解說\n",
    "首先，從range()函數開始，根據range函數的輸出清單，如x[i:i+batch_size]，從輸入資料中的第i張圖像進行批次擷取至第i+batch_size張圖像資料。<br>\n",
    "另外，可以看到argmax()函數中給予引數axis=1，這是用來設定在100x10的陣列中，從第一維的各個元素(以第一維為主)，找出最大值得索引值。\n"
   ]
  },
  {
   "cell_type": "markdown",
   "metadata": {
    "pycharm": {
     "metadata": false
    }
   },
   "source": [
    "# 本章學習到的重點\n",
    "* 神經網路使用的是sigmoid函數、ReLU函數等能平滑變化的函數，當作活化函數。\n",
    "* 善用Numpy多維陣列，可以有效率地執行神經網路的處理。\n",
    "* ML學習的問題大致可以分為回歸問題與分類問題。\n",
    "* 一般而言，輸出層使用的活化函數，在解決回歸問題時，會使用恆等函數；若是分類，則使用softmax函數。\n",
    "* 在分類問題中，可以將輸出層的神經元數量設定成分類的類別數量。\n",
    "* 統一輸入資料稱為「批次」以批次為單位進行推論處理，可以執行高速運算。\n"
   ]
  }
 ],
 "metadata": {
  "kernelspec": {
   "display_name": "Python 3",
   "language": "python",
   "name": "python3"
  },
  "language_info": {
   "codemirror_mode": {
    "name": "ipython",
    "version": 3
   },
   "file_extension": ".py",
   "mimetype": "text/x-python",
   "name": "python",
   "nbconvert_exporter": "python",
   "pygments_lexer": "ipython3",
   "version": "3.6.8"
  },
  "stem_cell": {
   "cell_type": "raw",
   "metadata": {
    "pycharm": {
     "metadata": false
    }
   },
   "source": ""
  }
 },
 "nbformat": 4,
 "nbformat_minor": 1
}
