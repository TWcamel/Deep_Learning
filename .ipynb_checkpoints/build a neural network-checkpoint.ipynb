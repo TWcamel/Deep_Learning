{
 "cells": [
  {
   "cell_type": "code",
   "execution_count": 13,
   "metadata": {},
   "outputs": [],
   "source": [
    "import tensorflow as tf\n",
    "\n",
    "###  define layer function  ###\n",
    "\n",
    "#此功能應包含3層layer，其中一層為隱藏層(看筆記page1)\n",
    "def add_layer(inputs, in_size, out_size, activation_function=None):\n",
    "    Weights = tf.Variable(tf.random_normal([in_size, out_size])) #生成一隨機矩陣，為in_size列,out_size行\n",
    "    biases = tf.Variable(tf.zeros([1, out_size]) + 0.1 ) #在tensorflow中，biases初始值不推薦為0，故使用0.14\n",
    "    Wx_plus_biases = tf.matmul(inputs, Weights) + biases \n",
    "    \n",
    "    ## 開始繳活函數 ##\n",
    "    if activation_function is None: #activaiton_function不為0時\n",
    "        outputs = Wx_plus_biases\n",
    "    else:\n",
    "        outputs = activation_function(Wx_plus_biases)\n",
    "    return outputs\n",
    "\n",
    "###  end of layer funciton  ###"
   ]
  },
  {
   "cell_type": "code",
   "execution_count": 17,
   "metadata": {},
   "outputs": [
    {
     "name": "stdout",
     "output_type": "stream",
     "text": [
      "0.36305845\n",
      "0.00734782\n",
      "0.006617572\n",
      "0.00605145\n",
      "0.0055676117\n",
      "0.005139377\n",
      "0.0048274742\n",
      "0.004602615\n",
      "0.00440245\n",
      "0.004217731\n",
      "0.0040813386\n",
      "0.003995986\n",
      "0.0039175358\n",
      "0.003839851\n",
      "0.0037750653\n",
      "0.003703881\n",
      "0.0036279312\n",
      "0.0035543942\n",
      "0.0035059599\n",
      "0.003463273\n"
     ]
    }
   ],
   "source": [
    "###   build a neural network  ###\n",
    "\n",
    "import numpy as np\n",
    "x_data = np.linspace(-1, 1, 300)[:, np.newaxis]  #x_data有300比資料，一個feature\n",
    "noise = np.random.normal(0, 0.05, x_data.shape) #增加噪點，防止預測曲線發現過擬和現象\n",
    "y_data = np.square(x_data) - 0.5 + noise\n",
    "\n",
    "xs= tf.placeholder(tf.float32, [None, 1])  #假設無論給多少example都Ok(None),輸出的feature只有1\n",
    "ys= tf.placeholder(tf.float32, [None, 1])\n",
    "\n",
    "l1 = add_layer(xs, 1, 10, activation_function = tf.nn.relu) #輸入層\n",
    "prediction = add_layer(l1, 10, 1, activation_function= None) #線性函數，因為假設無activation_function\n",
    "\n",
    "loss = tf.reduce_mean(tf.reduce_sum(tf.square(ys - prediction),\n",
    "                    reduction_indices=[1])) #定義loss_function\n",
    "train_step = tf.train.GradientDescentOptimizer(0.1).minimize(loss) #以學習率=0.1對於誤差(loss)進行優化\n",
    "\n",
    "init = tf.global_variables_initializer()\n",
    "sess = tf.Session()\n",
    "sess.run(init)\n",
    "\n",
    "for i in range(1000):\n",
    "    sess.run(train_step, feed_dict = {xs: x_data, ys: y_data}) #另一種對於GradientDescent的方法，小步驟訓練可提升下降效率\n",
    "    if i % 50 == 0 : #每50步回報一次誤差函數\n",
    "             print(sess.run(loss, feed_dict = {xs: x_data, ys: y_data}))\n",
    "\n",
    "###  end of  building  ###"
   ]
  },
  {
   "cell_type": "code",
   "execution_count": null,
   "metadata": {},
   "outputs": [],
   "source": []
  }
 ],
 "metadata": {
  "kernelspec": {
   "display_name": "Python 3",
   "language": "python",
   "name": "python3"
  },
  "language_info": {
   "codemirror_mode": {
    "name": "ipython",
    "version": 3
   },
   "file_extension": ".py",
   "mimetype": "text/x-python",
   "name": "python",
   "nbconvert_exporter": "python",
   "pygments_lexer": "ipython3",
   "version": "3.6.7"
  }
 },
 "nbformat": 4,
 "nbformat_minor": 2
}
