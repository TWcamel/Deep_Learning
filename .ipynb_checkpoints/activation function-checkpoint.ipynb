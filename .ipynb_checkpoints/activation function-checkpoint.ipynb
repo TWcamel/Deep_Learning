{
 "cells": [
  {
   "cell_type": "code",
   "execution_count": 4,
   "metadata": {},
   "outputs": [],
   "source": [
    "import tensorflow as tf\n",
    "import numpy as np\n",
    "\n",
    "#create data\n",
    "x_data = np.random.rand(100).astype(np.float32) #訂製此數據為float32，因為大部分數據為此形式\n",
    "y_data = x_data*.1+.3"
   ]
  },
  {
   "cell_type": "code",
   "execution_count": 17,
   "metadata": {},
   "outputs": [],
   "source": [
    "### create tnesorlow structure start ###\n",
    "Weights = tf.Variable(tf.random_uniform([1],-1,1)) #生成一個隨機數，以uniform[-1~1]方式生成\n",
    "biases = tf.Variable(tf.zeros([1])) #初始化biases\n",
    "\n",
    "y = Weights * x_data + biases\n",
    "\n",
    "loss = tf.reduce_mean(tf.square(y-y_data)) #損失函數\n",
    "optimizer = tf.train.GradientDescentOptimizer(0.5) #學習率\n",
    "train = optimizer.minimize(loss) \n",
    "\n",
    "init = tf.initialize_all_variables() #初始化神經網路架構\n",
    "### create tensorlow structure end ###"
   ]
  },
  {
   "cell_type": "code",
   "execution_count": 18,
   "metadata": {},
   "outputs": [],
   "source": [
    "#激勵函數\n",
    "sess = tf.Session() #此Session就像指針，指向的地方就被繳活了!\n",
    "sess.run(init)  #very important, lots of people forget to do this step"
   ]
  },
  {
   "cell_type": "code",
   "execution_count": 24,
   "metadata": {},
   "outputs": [
    {
     "name": "stdout",
     "output_type": "stream",
     "text": [
      "0 [0.0999999] [0.30000007]\n",
      "20 [0.0999999] [0.30000007]\n",
      "40 [0.0999999] [0.30000007]\n",
      "60 [0.0999999] [0.30000007]\n",
      "80 [0.0999999] [0.30000007]\n",
      "100 [0.0999999] [0.30000007]\n",
      "120 [0.0999999] [0.30000007]\n",
      "140 [0.0999999] [0.30000007]\n",
      "160 [0.0999999] [0.30000007]\n",
      "180 [0.0999999] [0.30000007]\n",
      "200 [0.0999999] [0.30000007]\n"
     ]
    }
   ],
   "source": [
    "for step in range(208): #讓此模型學習209步\n",
    "    sess.run(train)\n",
    "    if step % 20 == 0:\n",
    "        print(step, sess.run(Weights), sess.run(biases))"
   ]
  },
  {
   "cell_type": "code",
   "execution_count": null,
   "metadata": {},
   "outputs": [],
   "source": []
  }
 ],
 "metadata": {
  "kernelspec": {
   "display_name": "Python 3",
   "language": "python",
   "name": "python3"
  },
  "language_info": {
   "codemirror_mode": {
    "name": "ipython",
    "version": 3
   },
   "file_extension": ".py",
   "mimetype": "text/x-python",
   "name": "python",
   "nbconvert_exporter": "python",
   "pygments_lexer": "ipython3",
   "version": "3.6.7"
  }
 },
 "nbformat": 4,
 "nbformat_minor": 2
}
