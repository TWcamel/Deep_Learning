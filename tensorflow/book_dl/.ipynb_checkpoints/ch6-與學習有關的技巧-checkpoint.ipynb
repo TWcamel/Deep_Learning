{
 "cells": [
  {
   "cell_type": "markdown",
   "metadata": {
    "collapsed": true,
    "pycharm": {
     "name": "#%% md\n"
    }
   },
   "source": [
    "# 與學習有關的技巧\n",
    "本章要說明在神經網路的學中，成為關鍵的重要部分。本章挑選的主題包括，找出最佳參數的最佳化方法、權重參數的預設值、超參數的設定方法等，每個都是在神經網路的學中，十分重要的主題。另外，還會扼要說明執行Weight decay( 權重衰減 )與 Dropout 等正規化方法，當作過度學解決對策。最後，簡單說明近年來眾多研究中常用到的 Batch Normalization 手法，可以快速進行神經網路( 深度學習 )的學習。所以，讓我們開始本章的內容吧!\n"
   ]
  },
  {
   "cell_type": "markdown",
   "metadata": {
    "pycharm": {
     "metadata": false
    }
   },
   "source": [
    "## 6.1 更新參數\n",
    "神經網路的學習目的，就是找出可以盡量縮小損失函數的參數，亦即找出最佳參數。<br><br>\n",
    "\n",
    "為了找出最佳化參數，計算了參數的梯度( 微分 )。重複執行利用參數的梯度，往梯度方向進行更新參數，最後會逐漸趨近最佳參數，這種方法稱作SGD，是非常單純的作法，但，還有比SGD更聰明的方法存在。以下要說明SGD的缺點，並介紹其他最佳化手法。\n"
   ]
  },
  {
   "cell_type": "markdown",
   "metadata": {
    "pycharm": {
     "metadata": false
    }
   },
   "source": [
    "### 6.1.1 SGD\n",
    "$\n",
    "W ← W - \\eta\\frac{\\partial{L}}{\\partial{W}} \\tag{6.1}\n",
    "$\n",
    "這裡的更新權重參數為$W$，損失函數的梯度為$\\frac{\\partial{L}}{\\partial{W}}$。$\\eta$代表學習率，實際上使用的是事先決定的0.01或0.001等數值。以下實現SGD。\n"
   ]
  },
  {
   "cell_type": "code",
   "execution_count": null,
   "metadata": {
    "pycharm": {
     "metadata": false,
     "name": "#%%\n"
    }
   },
   "outputs": [],
   "source": [
    "class SGD:\n",
    "    def __init__(self, lr = 0.01):\n",
    "        self.lr = lr\n",
    "        \n",
    "    def update(self, params, grads):\n",
    "        for key in params.keys():\n",
    "            params[key] -= self.lr * grads[key]\n"
   ]
  },
  {
   "cell_type": "markdown",
   "metadata": {
    "pycharm": {
     "metadata": false
    }
   },
   "source": [
    "### 說明\n",
    "初始化時的引數lr代表learning rate( 學習率 )，並且把學率當作實例變數。另外，還定義了update(self, params, grads)方法。在SGD中，會重複呼叫這個方法。我們來使用SGD看看。\n"
   ]
  },
  {
   "cell_type": "markdown",
   "metadata": {
    "pycharm": {
     "metadata": false,
     "name": "#%% md\n"
    }
   },
   "source": [
    "### SGD的缺點\n",
    "SGD很單純，也很容易執行，但遇到部分問題，可能會變得很沒有效率。以下將藉由思考函數最小值問題，指出SGD的缺點。<br>\n",
    "$\n",
    "f(x,y) = \\frac{1}{20}x^2 + y^2 \\tag{6.2}\n",
    "$<br>\n",
    "由算式可知，這個梯度的特色是，往$y$軸方向變大，往$x$軸方向就會變小。<br><br>\n",
    "\n",
    "換句話說，SGD的缺點是，函數的形狀如果沒有**等向性**，非延伸形狀的函數，就會以沒有效率的路徑進行探索。為了改善SGD的缺點，接下來將介紹Momentum、AdaGrad、Adam等取代SGD的3種手法。\n"
   ]
  },
  {
   "cell_type": "markdown",
   "metadata": {
    "pycharm": {
     "metadata": false
    }
   },
   "source": [
    "### 6.1.2 Momentum\n",
    "Momentum的意思是「動量」與物理有關係。此手法可以用下列算式表示。<br>\n",
    "$\n",
    "v ← \\alpha v - \\eta\\frac{\\partial{L}}{\\partial{W}} \\tag{6.3}\n",
    "$<br>\n",
    "$\n",
    "W ← W + v \\tag{6.4}\n",
    "$<br>\n",
    "和前面的SGD一樣，$W$是更新的權重參數，$\\frac{\\partial{L}}{\\partial{W}}$是與$W$有關的損失函數梯度，$\\eta$代表學習率。這裡出現了新的變數$v$，站在物理的角度，$v$代表著「速度」。算式( 6.3 )代表，物體往梯度方向受力，並將這個力量加上物體速度$v$( 6.4 )的物理定律。<br>\n",
    "\n",
    "另外，算式( 6.3 )還出現了$\\alpha v$，這是當物體沒有受力時，逐漸減速的功能( $\\alpha$ 設定為0.9等數值 )。站在物理學的角度，相當於地面磨擦力或是空氣阻力。以下是Momentum的執行過程。\n"
   ]
  },
  {
   "cell_type": "code",
   "execution_count": null,
   "metadata": {
    "pycharm": {
     "metadata": false,
     "name": "#%%\n"
    }
   },
   "outputs": [],
   "source": [
    "import numpy as np\n",
    "class Momentum:\n",
    "\n",
    "    \"\"\"Momentum SGD\"\"\"\n",
    "\n",
    "    def __init__(self, lr=0.01, momentum=0.9):\n",
    "        self.lr = lr\n",
    "        self.momentum = momentum\n",
    "        self.v = None\n",
    "        \n",
    "    def update(self, params, grads):\n",
    "        if self.v is None:\n",
    "            self.v = {}\n",
    "            for key, val in params.items():                                \n",
    "                self.v[key] = np.zeros_like(val)\n",
    "                \n",
    "        for key in params.keys():\n",
    "            self.v[key] = self.momentum*self.v[key] - self.lr*grads[key] \n",
    "            params[key] += self.v[key]\n",
    "        "
   ]
  },
  {
   "cell_type": "markdown",
   "metadata": {
    "pycharm": {
     "metadata": false,
     "name": "#%% md\n"
    }
   },
   "source": [
    "### 6.1.3 AdaGrad\n",
    "在神經網路的學習中，學習率的值分常重要( 算式中顯示為$\\eta$ )。學習率太小，會花費太多時間浪費在學習上，反之則會無法正確學習。 <br><br>\n",
    "\n",
    "有個學習率有關的有效技巧，稱為**學習率衰減( learning rate decay )** 逐漸降低學習率的概念，相當於統一降低參數「整個」學習率。進一步發展後，就成為AdaGrad，此手法為針對「每個」參數，準備「客製」值。<br><br>\n",
    "\n",
    "AdaGrad是適應各個參數的元素，一邊調整學習率，一邊學習的手法( AdaGrad 的 Ada 為 Adaptive )。接下來，用算式來顯示AdaGrad的更新方法。<br>\n",
    "$\n",
    "h ← h + \\frac{\\partial{L}}{\\partial{W}} \\bigodot \\frac{\\partial{L}}{\\partial{W}} \\tag{6.5} \n",
    "$ <br>\n",
    "$\n",
    "W ← W -  \\eta \\frac{1}{\\sqrt{h}} \\frac{\\partial{L}}{\\partial{W}} \\tag{6.6}\n",
    "$ <br>\n",
    "\n",
    "和前面的SGD一樣，$W$是更新的權重參數，$\\frac{\\partial{L}}{\\partial{W}}$是與$W$有關的損失函數梯度，$\\eta$代表學習率。這裡出現了新的變數$h$，如算式 ( 6.5 )所示，$h$維持為前面提到的梯度值平方和( 算式 ( 6.5 )的$\\bigodot$代表矩陣各元素相乘再加總 )。更新參數時，乘上$\\frac{1}{\\sqrt{h}}$，調整學習規模。這是代表在參數的元素中，經常變動( 放大 )的元素，由於$h$在分母位置，因此學習率會因故而變小。由於經常變動的參數，學習率會逐漸變小，所以我們可以針對參數的各個元素，執行學習率衰減。接下來，我們來執行他。<br><br>\n",
    "\n",
    "{Note} AdaGrad是把過去所有的梯度當作平方和，全都記錄下來。實際上，無限學習下去，更新量會變成0，完全不在更新。改善這個問題的手法，就是RMSPorp。其手法並非把過去所有的梯度一率加總，而是逐漸忘記過去的梯度，以大幅反應新梯度資料的方式加總。專有名詞稱作「指數移動平均」，以指數函數減少過去梯度的規模。\n"
   ]
  },
  {
   "cell_type": "code",
   "execution_count": 1,
   "metadata": {
    "pycharm": {
     "is_executing": false,
     "metadata": false,
     "name": "#%%\n"
    }
   },
   "outputs": [],
   "source": [
    "class AdaGrad:\n",
    "\n",
    "    \"\"\"AdaGrad\"\"\"\n",
    "\n",
    "    def __init__(self, lr=0.01):\n",
    "        self.lr = lr\n",
    "        self.h = None\n",
    "        \n",
    "    def update(self, params, grads):\n",
    "        if self.h is None:\n",
    "            self.h = {}\n",
    "            for key, val in params.items():\n",
    "                self.h[key] = np.zeros_like(val)\n",
    "            \n",
    "        for key in params.keys():\n",
    "            self.h[key] += grads[key] * grads[key]\n",
    "            params[key] -= self.lr * grads[key] / (np.sqrt(self.h[key]) + 1e-7)\n"
   ]
  },
  {
   "cell_type": "markdown",
   "metadata": {
    "pycharm": {
     "metadata": false,
     "name": "#%% md\n"
    }
   },
   "source": [
    "這裡必須注意到，最後一行加上了小數值1e-7這一點。這是為了避免當self.h[ key ]出現0時，發生除以0的問題。在大部分的深度學習框架中，這種小數值也可以設定成參數，這裡使用固定值1e-7。\n"
   ]
  },
  {
   "cell_type": "markdown",
   "metadata": {
    "pycharm": {
     "metadata": false,
     "name": "#%% md\n"
    }
   },
   "source": [
    "### 6.1.4 Adam\n",
    "Momentum是依照球在碗內來回滾動的物理定律為基準來移動，而AdaGrad是依照各個參數的元素，調整適應的更新步驟。假如將Momentum與AdaGrad相結合，就是Adam了!<br><br>\n",
    "\n",
    "直覺來說，結合以上兩種手法的優點，可以有效探索參數空間。另外，還能進行超參數的「偏權值調整( 偏離校正 )」，這也是Adam的特色之一。接下來我們來執行他。\n"
   ]
  },
  {
   "cell_type": "code",
   "execution_count": null,
   "metadata": {
    "pycharm": {
     "metadata": false,
     "name": "#%%\n"
    }
   },
   "outputs": [],
   "source": [
    "class Adam:\n",
    "\n",
    "    \"\"\"Adam (http://arxiv.org/abs/1412.6980v8)\"\"\"\n",
    "\n",
    "    def __init__(self, lr=0.001, beta1=0.9, beta2=0.999):\n",
    "        self.lr = lr\n",
    "        self.beta1 = beta1\n",
    "        self.beta2 = beta2\n",
    "        self.iter = 0\n",
    "        self.m = None\n",
    "        self.v = None\n",
    "        \n",
    "    def update(self, params, grads):\n",
    "        if self.m is None:\n",
    "            self.m, self.v = {}, {}\n",
    "            for key, val in params.items():\n",
    "                self.m[key] = np.zeros_like(val)\n",
    "                self.v[key] = np.zeros_like(val)\n",
    "        \n",
    "        self.iter += 1\n",
    "        lr_t  = self.lr * np.sqrt(1.0 - self.beta2**self.iter) / (1.0 - self.beta1**self.iter)         \n",
    "        \n",
    "        for key in params.keys():\n",
    "            #self.m[key] = self.beta1*self.m[key] + (1-self.beta1)*grads[key]\n",
    "            #self.v[key] = self.beta2*self.v[key] + (1-self.beta2)*(grads[key]**2)\n",
    "            self.m[key] += (1 - self.beta1) * (grads[key] - self.m[key])\n",
    "            self.v[key] += (1 - self.beta2) * (grads[key]**2 - self.v[key])\n",
    "            \n",
    "            params[key] -= lr_t * self.m[key] / (np.sqrt(self.v[key]) + 1e-7)\n",
    "            \n",
    "            #unbias_m += (1 - self.beta1) * (grads[key] - self.m[key]) # correct bias\n",
    "            #unbisa_b += (1 - self.beta2) * (grads[key]*grads[key] - self.v[key]) # correct bias\n",
    "            #params[key] += self.lr * unbias_m / (np.sqrt(unbisa_b) + 1e-7)\n"
   ]
  },
  {
   "cell_type": "markdown",
   "metadata": {
    "pycharm": {
     "metadata": false
    }
   },
   "source": [
    "### 6.1.5 利用MNIST資料集比較更新手法\n",
    "以下將以手寫辨識數字為對象，比較前面說明過的SGD、Momentum、AdaGrad、Adam等4種手法。確認每種手法的學習進展有何不同。<br>\n"
   ]
  },
  {
   "cell_type": "code",
   "execution_count": 2,
   "metadata": {
    "pycharm": {
     "is_executing": false,
     "metadata": false,
     "name": "#%%\n"
    }
   },
   "outputs": [
    {
     "name": "stdout",
     "output_type": "stream",
     "text": [
      "===========iteration:0===========\n",
      "SGD:2.514474623768444\n",
      "Momentum:2.4516549352540915\n",
      "AdaGrad:2.1349995697883264\n",
      "Adam:2.1780539319091217\n",
      "===========iteration:100===========\n",
      "SGD:1.6859501559166479\n",
      "Momentum:0.3372707331357125\n",
      "AdaGrad:0.14306830757444475\n",
      "Adam:0.2093739054507598\n",
      "===========iteration:200===========\n",
      "SGD:1.1151636032834205\n",
      "Momentum:0.4715188773469323\n",
      "AdaGrad:0.20358828072647178\n",
      "Adam:0.32716717947845353\n",
      "===========iteration:300===========\n",
      "SGD:0.6351014519762351\n",
      "Momentum:0.2872815998681052\n",
      "AdaGrad:0.11360218314243592\n",
      "Adam:0.22953152942787947\n",
      "===========iteration:400===========\n",
      "SGD:0.48078727445189384\n",
      "Momentum:0.1743641296125323\n",
      "AdaGrad:0.12601837036153068\n",
      "Adam:0.16702915089512946\n",
      "===========iteration:500===========\n",
      "SGD:0.48497086006342693\n",
      "Momentum:0.23888648222753242\n",
      "AdaGrad:0.09289388719682903\n",
      "Adam:0.1611121362478513\n",
      "===========iteration:600===========\n",
      "SGD:0.31940195545119276\n",
      "Momentum:0.16487866980416677\n",
      "AdaGrad:0.06894860059386664\n",
      "Adam:0.14987688224707174\n",
      "===========iteration:700===========\n",
      "SGD:0.3940331690183011\n",
      "Momentum:0.11634831820401481\n",
      "AdaGrad:0.05068279932467385\n",
      "Adam:0.11810327730186329\n",
      "===========iteration:800===========\n",
      "SGD:0.27795467300928045\n",
      "Momentum:0.08772718981750256\n",
      "AdaGrad:0.030767468780170806\n",
      "Adam:0.044830319060271476\n",
      "===========iteration:900===========\n",
      "SGD:0.2691471075996901\n",
      "Momentum:0.2195512539493598\n",
      "AdaGrad:0.08202244261926606\n",
      "Adam:0.08450993874805654\n",
      "===========iteration:1000===========\n",
      "SGD:0.30410668112835226\n",
      "Momentum:0.13355479783449645\n",
      "AdaGrad:0.06983489138043922\n",
      "Adam:0.06911196450034655\n",
      "===========iteration:1100===========\n",
      "SGD:0.27798432218287417\n",
      "Momentum:0.1529866308717747\n",
      "AdaGrad:0.045676887920477714\n",
      "Adam:0.08448073846504658\n",
      "===========iteration:1200===========\n",
      "SGD:0.23874119367269528\n",
      "Momentum:0.02968002408714387\n",
      "AdaGrad:0.023064855192620887\n",
      "Adam:0.033130004016650914\n",
      "===========iteration:1300===========\n",
      "SGD:0.21004538826106672\n",
      "Momentum:0.09424372597739539\n",
      "AdaGrad:0.07331600848434226\n",
      "Adam:0.12961015222950986\n",
      "===========iteration:1400===========\n",
      "SGD:0.3463619780540365\n",
      "Momentum:0.11000106479015485\n",
      "AdaGrad:0.04019081565654273\n",
      "Adam:0.0695852785319855\n",
      "===========iteration:1500===========\n",
      "SGD:0.34207933748094893\n",
      "Momentum:0.1795972554381534\n",
      "AdaGrad:0.09158835634125838\n",
      "Adam:0.13624808219265191\n",
      "===========iteration:1600===========\n",
      "SGD:0.26248833400262045\n",
      "Momentum:0.0642978585862373\n",
      "AdaGrad:0.024106181020037303\n",
      "Adam:0.06599059878216693\n",
      "===========iteration:1700===========\n",
      "SGD:0.28812138550907196\n",
      "Momentum:0.0960200369180252\n",
      "AdaGrad:0.07161353474756577\n",
      "Adam:0.08005199682253404\n",
      "===========iteration:1800===========\n",
      "SGD:0.12439360950929487\n",
      "Momentum:0.05053444320089705\n",
      "AdaGrad:0.029974958325053678\n",
      "Adam:0.07062038994454554\n",
      "===========iteration:1900===========\n",
      "SGD:0.2521556841798347\n",
      "Momentum:0.04026364569158376\n",
      "AdaGrad:0.015758424771944987\n",
      "Adam:0.05218928961627017\n"
     ]
    },
    {
     "data": {
      "text/plain": [
       "<Figure size 640x480 with 1 Axes>"
      ]
     },
     "metadata": {},
     "output_type": "display_data"
    }
   ],
   "source": [
    "import sys, os\n",
    "sys.path.append(os.path.abspath('./dl_ex')) #載入父目錄檔案的設定\n",
    "import numpy as np\n",
    "import matplotlib.pyplot as plt\n",
    "from dl_ex.dataset.mnist import load_mnist\n",
    "from dl_ex.ch05.two_layer_net import TwoLayerNet\n",
    "from dl_ex.common.util import smooth_curve\n",
    "from dl_ex.common.multi_layer_net import MultiLayerNet\n",
    "from dl_ex.common.optimizer import *\n",
    "\n",
    "# 0:MNIST載入\n",
    "(x_train, t_train), (x_test, t_test) = load_mnist(normalize=True)\n",
    "\n",
    "train_size = x_train.shape[0]\n",
    "batch_size = 128\n",
    "max_iterations = 2000\n",
    "\n",
    "# 1:實驗設定\n",
    "optimizers = {}\n",
    "optimizers['SGD'] = SGD()\n",
    "optimizers['Momentum'] = Momentum()\n",
    "optimizers['AdaGrad'] = AdaGrad()\n",
    "optimizers['Adam'] = Adam()\n",
    "\n",
    "#optimizers['RMSprop'] = RMSprop()\n",
    "\n",
    "networks = {}\n",
    "train_loss = {}\n",
    "for key in optimizers.keys():\n",
    "    networks[key] = MultiLayerNet(\n",
    "        input_size=784, hidden_size_list=[100, 100, 100, 100],\n",
    "        output_size=10)\n",
    "    train_loss[key] = []    \n",
    "\n",
    "\n",
    "# 2:開始學習\n",
    "for i in range(max_iterations):\n",
    "    batch_mask = np.random.choice(train_size, batch_size)\n",
    "    x_batch = x_train[batch_mask]\n",
    "    t_batch = t_train[batch_mask]\n",
    "    \n",
    "    for key in optimizers.keys():\n",
    "        grads = networks[key].gradient(x_batch, t_batch)\n",
    "        optimizers[key].update(networks[key].params, grads)\n",
    "    \n",
    "        loss = networks[key].loss(x_batch, t_batch)\n",
    "        train_loss[key].append(loss)\n",
    "    \n",
    "    if i % 100 == 0:\n",
    "        print( \"===========\" + \"iteration:\" + str(i) + \"===========\")\n",
    "        for key in optimizers.keys():\n",
    "            loss = networks[key].loss(x_batch, t_batch)\n",
    "            print(key + \":\" + str(loss))\n",
    "\n",
    "# 3.繪圖\n",
    "markers = {\"SGD\": \"o\", \"Momentum\": \"x\", \"AdaGrad\": \"s\", \"Adam\": \"D\"}\n",
    "x = np.arange(max_iterations)\n",
    "for key in optimizers.keys():\n",
    "    plt.plot(x, smooth_curve(train_loss[key]), marker=markers[key], markevery=100, label=key)\n",
    "plt.xlabel(\"iterations\")\n",
    "plt.ylabel(\"loss\")\n",
    "plt.ylim(0, 1)\n",
    "plt.legend()\n",
    "plt.show()\n"
   ]
  },
  {
   "cell_type": "markdown",
   "metadata": {
    "pycharm": {
     "metadata": false,
     "name": "#%% md\n"
    }
   },
   "source": [
    "由圖可以看出，除了SGD外的3種手法的學速度的確較快，有時最後的辨識效能也比較好。\n"
   ]
  },
  {
   "cell_type": "markdown",
   "metadata": {
    "pycharm": {
     "metadata": false
    }
   },
   "source": [
    "## 6.2 權重的預設值\n",
    "在神經網路中，特別重要的就是權重的預設值。事實上，權重的預設值應該設定為哪種數值，常會影響到神經網路的學習成功與否。本節將針對建議的權重預設值來說明，利用實驗，確認實際的神經網路學習速度。<br><br>\n"
   ]
  },
  {
   "cell_type": "markdown",
   "metadata": {
    "pycharm": {
     "metadata": false
    }
   },
   "source": [
    "### 6.2.1 權重的預設值變成0?\n",
    "後面將會介紹 Weight decay ( 權重衰減 )手法，當作控制過度學習，提高一般化功能的技巧。其是以縮小權重參數值為目的，進行學習的手法。縮小權重值，可以避免過度學習。<br><br>\n",
    "\n",
    "如果想要縮小權重值，預設值也盡量從小數值開始，這是屬於正攻法。想要縮小權重值，把權重的預設值全部設為0呢?其實，這是一個糟糕的想法，因為如此會造成不正確學習。<br><br>\n",
    "\n",
    "為什麼預設值不能設為均一值(或是全部為0)?因為誤差反向傳播法中，所有的權重值都會均一更新。假設在雙層神經網路中，把第1層與第2層的權重設定為0，進行正向傳播時，因為輸入層的權重為0，會傳遞相同值給第2層神經元。第2層神經元全部輸入相同的值，在反向傳播時，第2層的權重會更新成一樣。因此，我們需要的是隨機的預設值。\n",
    "\n",
    "### 6.2.2 隱藏層的活性化分布\n",
    "觀察隱藏層的活性化，可以得到許多資料。以下進行一個簡單的實驗，觀察隱藏層的活性化會隨著權重的預設值產生何種變化。這裡進行的實驗室，在5層的神經網路中(活化函數使用Sigmoid函數)，傳遞隨機產生的輸入資料，利用分布圖繪製各層的活性化資料分布。\n",
    "\n",
    "{Note} 這裡把活化函數之後的輸出資料稱為「活性化( Activation )」，但是根據文獻紀載，在各層之間流動的資料，稱可稱為活性化。\n"
   ]
  },
  {
   "cell_type": "code",
   "execution_count": 8,
   "metadata": {
    "pycharm": {
     "is_executing": false,
     "metadata": false,
     "name": "#%%\n"
    }
   },
   "outputs": [
    {
     "data": {
      "image/png": "[encoded data removed]",
      "text/plain": [
       "<Figure size 432x288 with 5 Axes>"
      ]
     },
     "metadata": {
      "needs_background": "light"
     },
     "output_type": "display_data"
    }
   ],
   "source": [
    "import numpy as np\n",
    "import matplotlib.pyplot as plt\n",
    "\n",
    "\n",
    "def sigmoid(x):\n",
    "    return 1 / (1 + np.exp(-x))\n",
    "\n",
    "\n",
    "def ReLU(x):\n",
    "    return np.maximum(0, x)\n",
    "\n",
    "\n",
    "def tanh(x):\n",
    "    return np.tanh(x)\n",
    "    \n",
    "input_data = np.random.randn(1000, 100)  # 1000個輸入資烙\n",
    "node_num = 100  # 各隱藏層的神經元數目\n",
    "hidden_layer_size = 5  # 5層隱藏層\n",
    "activations = {}  # 放置活性化資料的地方\n",
    "\n",
    "x = input_data\n",
    "\n",
    "for i in range(hidden_layer_size):\n",
    "    if i != 0:\n",
    "        x = activations[i-1]\n",
    "\n",
    "    # 隨機產生的初始權重預設值！\n",
    "    w = np.random.randn(node_num, node_num) * 1\n",
    "    # w = np.random.randn(node_num, node_num) * 0.01\n",
    "    # w = np.random.randn(node_num, node_num) * np.sqrt(1.0 / node_num) \n",
    "    # w = np.random.randn(node_num, node_num) * np.sqrt(2.0 / node_num)\n",
    "\n",
    "\n",
    "    a = np.dot(x, w)\n",
    "\n",
    "\n",
    "    # 活性化開始！\n",
    "    z = sigmoid(a)\n",
    "    # z = ReLU(a)\n",
    "    # z = tanh(a)\n",
    "\n",
    "    activations[i] = z\n",
    "\n",
    "# 繪圖\n",
    "for i, a in activations.items():\n",
    "    plt.subplot(1, len(activations), i+1)\n",
    "    plt.title(str(i+1) + \"-layer\")\n",
    "    if i != 0: plt.yticks([], [])\n",
    "    # plt.xlim(0.1, 1)\n",
    "    # plt.ylim(0, 7000)\n",
    "    plt.hist(a.flatten(), 30, range=(0,1))\n",
    "plt.show()\n"
   ]
  },
  {
   "cell_type": "markdown",
   "metadata": {
    "pycharm": {
     "metadata": false,
     "name": "#%% md\n"
    }
   },
   "source": [
    "如圖所示，能看出各層的活性化分布偏向0與1。這裡使用的Sigmoid函數為呈現s型曲線的函數，但隨著sigmoid函數的輸出趨近於0(或1)，該微分值也會趨近於0。因此，在偏向0與1的資料分布中，反向傳播的梯度值會逐漸變小、消失。這就是所謂的「梯度消失( gradient vanishing )」問題。在層數多的深度學習中，梯度消失會造成嚴重的問題。<br><br>\n",
    "\n",
    "然而，若我們使用sd為0.01的常態分配做模擬，會發現集中分配在0.5附近。和前面偏向0與1不同，沒有引起梯度消失問題。可是，活性化分布出現特定偏差，在表現力方面，將會產生重大問題。因為，當多個神經元輸出幾乎一模一樣的數值時，就沒有存在的意義。例如，100個神經元的輸出幾乎相同數值，代表只用1個神經元，就能表現出一樣的情況。因此，活性化分布若出現偏差情況，會有「表現力受限」的問題，造成無法正確學習。因此我們需要在各層傳遞具有適當多樣性的資料。\n"
   ]
  },
  {
   "cell_type": "markdown",
   "metadata": {
    "pycharm": {
     "metadata": false,
     "name": "#%% md\n"
    }
   },
   "source": [
    "### 6.2.3 利用MNIST資料集比較權重預設值\n",
    "讓我們以實際資料為對象，提供不同的權重預設值，檢視對神經網路的學會造成何種影響。以下利用「std = 0.01」、「Xavier預設值」、「He預設值」等三種情況來進實驗。\n"
   ]
  },
  {
   "cell_type": "code",
   "execution_count": 2,
   "metadata": {
    "pycharm": {
     "is_executing": false,
     "metadata": false,
     "name": "#%%\n"
    }
   },
   "outputs": [
    {
     "data": {
      "image/png": "[encoded data removed]",
      "text/plain": [
       "<Figure size 432x288 with 5 Axes>"
      ]
     },
     "metadata": {
      "needs_background": "light"
     },
     "output_type": "display_data"
    }
   ],
   "source": [
    "import numpy as np\n",
    "import matplotlib.pyplot as plt\n",
    "\n",
    "\n",
    "def sigmoid(x):\n",
    "    return 1 / (1 + np.exp(-x))\n",
    "\n",
    "\n",
    "def ReLU(x):\n",
    "    return np.maximum(0, x)\n",
    "\n",
    "\n",
    "def tanh(x):\n",
    "    return np.tanh(x)\n",
    "    \n",
    "input_data = np.random.randn(1000, 100)  # 1000個輸入資烙\n",
    "node_num = 100  # 各隱藏層的神經元數目\n",
    "hidden_layer_size = 5  # 5層隱藏層\n",
    "activations = {}  # 放置活性化資料的地方\n",
    "\n",
    "x = input_data\n",
    "\n",
    "for i in range(hidden_layer_size):\n",
    "    if i != 0:\n",
    "        x = activations[i-1]\n",
    "\n",
    "    # 隨機產生的初始權重預設值！\n",
    "    w = np.random.randn(node_num, node_num) * 1\n",
    "    # w = np.random.randn(node_num, node_num) * 0.01\n",
    "    # w = np.random.randn(node_num, node_num) * np.sqrt(1.0 / node_num)\n",
    "    # w = np.random.randn(node_num, node_num) * np.sqrt(2.0 / node_num)\n",
    "\n",
    "\n",
    "    a = np.dot(x, w)\n",
    "\n",
    "\n",
    "    # 活性化分布的函數！\n",
    "    z = sigmoid(a)\n",
    "    # z = ReLU(a)\n",
    "    # z = tanh(a)\n",
    "\n",
    "    activations[i] = z\n",
    "\n",
    "# 繪圖\n",
    "for i, a in activations.items():\n",
    "    plt.subplot(1, len(activations), i+1)\n",
    "    plt.title(str(i+1) + \"-layer\")\n",
    "    if i != 0: plt.yticks([], [])\n",
    "    plt.xlim(0.1, 1)\n",
    "    plt.ylim(0, 7000)\n",
    "    plt.hist(a.flatten(), 30, range=(0,1))\n",
    "plt.show()\n"
   ]
  },
  {
   "cell_type": "code",
   "execution_count": null,
   "metadata": {
    "pycharm": {
     "metadata": false,
     "name": "#%%\n"
    }
   },
   "outputs": [],
   "source": [
    "\n"
   ]
  }
 ],
 "metadata": {
  "kernelspec": {
   "display_name": "Python 3",
   "language": "python",
   "name": "python3"
  },
  "language_info": {
   "codemirror_mode": {
    "name": "ipython",
    "version": 3
   },
   "file_extension": ".py",
   "mimetype": "text/x-python",
   "name": "python",
   "nbconvert_exporter": "python",
   "pygments_lexer": "ipython3",
   "version": "3.6.8"
  }
 },
 "nbformat": 4,
 "nbformat_minor": 1
}
